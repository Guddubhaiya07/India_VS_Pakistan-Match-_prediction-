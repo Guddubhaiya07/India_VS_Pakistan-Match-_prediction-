{
 "cells": [
  {
   "cell_type": "markdown",
   "id": "b3e26e52",
   "metadata": {
    "papermill": {
     "duration": 0.0108,
     "end_time": "2025-09-21T11:05:29.596203",
     "exception": false,
     "start_time": "2025-09-21T11:05:29.585403",
     "status": "completed"
    },
    "tags": []
   },
   "source": [
    "<center>\n",
    "    <h1 style=\"color:blue;\">🏏 India vs Pakistan T20 Winner Predictor</h1>\n",
    "</center>"
   ]
  },
  {
   "cell_type": "markdown",
   "id": "dc97c937",
   "metadata": {
    "papermill": {
     "duration": 0.008933,
     "end_time": "2025-09-21T11:05:29.614607",
     "exception": false,
     "start_time": "2025-09-21T11:05:29.605674",
     "status": "completed"
    },
    "tags": []
   },
   "source": [
    "Predict the winner of India vs Pakistan T20 matches using a **Machine Learning model** with an **interactive Gradio dashboard**. This notebook is beginner-friendly and shows how to build an ML model and make it interactive.\n",
    "\n",
    "\n",
    "\n",
    "## Features\n",
    "\n",
    "- **Single Match Prediction**  \n",
    "  Enter India runs, Pakistan runs, toss winner, and pitch condition to predict the winner instantly.  \n",
    "  Winner is **color-coded**:  \n",
    "  - 🟢 India  \n",
    "  - 🔵 Pakistan  \n",
    "  Run difference is also displayed.  \n",
    "\n",
    "- **Batch Prediction (CSV Upload)**  \n",
    "  Upload a CSV with multiple matches to predict winners for all matches at once.  \n",
    "  Download a CSV with a new **`predicted_winner`** column.\n",
    "\n",
    "- **Automatic Categorical Handling**  \n",
    "  Toss and pitch inputs are selected by **name** (India/Pakistan, Dry/Wet/Normal).  \n",
    "  Encoding is handled internally — no manual work needed.\n",
    "\n",
    "- **Interactive Dashboard**  \n",
    "  Built using **Gradio**, works inline in Kaggle notebooks with a shareable link.\n",
    "\n",
    "---\n",
    "\n",
    "This notebook is perfect for **sports analytics enthusiasts** who want a **hands-on ML project** with a clean and interactive UI.\n"
   ]
  },
  {
   "cell_type": "markdown",
   "id": "fb097b01",
   "metadata": {
    "papermill": {
     "duration": 0.009738,
     "end_time": "2025-09-21T11:05:29.633391",
     "exception": false,
     "start_time": "2025-09-21T11:05:29.623653",
     "status": "completed"
    },
    "tags": []
   },
   "source": [
    "# this data set working in prediction "
   ]
  },
  {
   "cell_type": "code",
   "execution_count": 1,
   "id": "485af3ca",
   "metadata": {
    "execution": {
     "iopub.execute_input": "2025-09-21T11:05:29.652877Z",
     "iopub.status.busy": "2025-09-21T11:05:29.652574Z",
     "iopub.status.idle": "2025-09-21T11:05:34.317245Z",
     "shell.execute_reply": "2025-09-21T11:05:34.316375Z"
    },
    "papermill": {
     "duration": 4.676602,
     "end_time": "2025-09-21T11:05:34.318933",
     "exception": false,
     "start_time": "2025-09-21T11:05:29.642331",
     "status": "completed"
    },
    "tags": []
   },
   "outputs": [],
   "source": [
    "import numpy as np\n",
    "import pandas as pd \n",
    "import matplotlib.pyplot as plt \n",
    "import seaborn as sns \n",
    "\n",
    "# machine learning library \n",
    "from sklearn.preprocessing import LabelEncoder\n",
    "from sklearn.model_selection import train_test_split\n",
    "from sklearn.metrics import accuracy_score, classification_report, confusion_matrix\n",
    "from sklearn.linear_model import LogisticRegression\n",
    "from sklearn.ensemble import RandomForestClassifier\n",
    "from xgboost import XGBClassifier"
   ]
  },
  {
   "cell_type": "code",
   "execution_count": 2,
   "id": "88323b8d",
   "metadata": {
    "execution": {
     "iopub.execute_input": "2025-09-21T11:05:34.339142Z",
     "iopub.status.busy": "2025-09-21T11:05:34.338223Z",
     "iopub.status.idle": "2025-09-21T11:05:34.342760Z",
     "shell.execute_reply": "2025-09-21T11:05:34.341833Z"
    },
    "papermill": {
     "duration": 0.015968,
     "end_time": "2025-09-21T11:05:34.344238",
     "exception": false,
     "start_time": "2025-09-21T11:05:34.328270",
     "status": "completed"
    },
    "tags": []
   },
   "outputs": [],
   "source": [
    "import warnings\n",
    "warnings.filterwarnings(\"ignore\")"
   ]
  },
  {
   "cell_type": "code",
   "execution_count": 3,
   "id": "ef50671d",
   "metadata": {
    "execution": {
     "iopub.execute_input": "2025-09-21T11:05:34.363594Z",
     "iopub.status.busy": "2025-09-21T11:05:34.363269Z",
     "iopub.status.idle": "2025-09-21T11:05:34.369313Z",
     "shell.execute_reply": "2025-09-21T11:05:34.368293Z"
    },
    "papermill": {
     "duration": 0.017618,
     "end_time": "2025-09-21T11:05:34.370758",
     "exception": false,
     "start_time": "2025-09-21T11:05:34.353140",
     "status": "completed"
    },
    "tags": []
   },
   "outputs": [
    {
     "name": "stdout",
     "output_type": "stream",
     "text": [
      "['india-vs-pakistan-t20-matches']\n"
     ]
    }
   ],
   "source": [
    "import os\n",
    "print(os.listdir(\"/kaggle/input\"))"
   ]
  },
  {
   "cell_type": "code",
   "execution_count": 4,
   "id": "4c3f7f46",
   "metadata": {
    "execution": {
     "iopub.execute_input": "2025-09-21T11:05:34.390415Z",
     "iopub.status.busy": "2025-09-21T11:05:34.390103Z",
     "iopub.status.idle": "2025-09-21T11:05:34.401938Z",
     "shell.execute_reply": "2025-09-21T11:05:34.400943Z"
    },
    "papermill": {
     "duration": 0.023342,
     "end_time": "2025-09-21T11:05:34.403383",
     "exception": false,
     "start_time": "2025-09-21T11:05:34.380041",
     "status": "completed"
    },
    "tags": []
   },
   "outputs": [
    {
     "name": "stdout",
     "output_type": "stream",
     "text": [
      "['India Vs Pakistan.xlsx', 'asdsadsd-1.jpg']\n"
     ]
    }
   ],
   "source": [
    "import os\n",
    "print(os.listdir(\"/kaggle/input/india-vs-pakistan-t20-matches\"))\n"
   ]
  },
  {
   "cell_type": "code",
   "execution_count": 5,
   "id": "e26d483d",
   "metadata": {
    "execution": {
     "iopub.execute_input": "2025-09-21T11:05:34.422638Z",
     "iopub.status.busy": "2025-09-21T11:05:34.422321Z",
     "iopub.status.idle": "2025-09-21T11:05:35.093124Z",
     "shell.execute_reply": "2025-09-21T11:05:35.092141Z"
    },
    "papermill": {
     "duration": 0.682344,
     "end_time": "2025-09-21T11:05:35.094848",
     "exception": false,
     "start_time": "2025-09-21T11:05:34.412504",
     "status": "completed"
    },
    "tags": []
   },
   "outputs": [],
   "source": [
    "\n",
    "df = pd.read_excel(\"/kaggle/input/india-vs-pakistan-t20-matches/India Vs Pakistan.xlsx\")"
   ]
  },
  {
   "cell_type": "code",
   "execution_count": 6,
   "id": "7a4672ca",
   "metadata": {
    "execution": {
     "iopub.execute_input": "2025-09-21T11:05:35.115847Z",
     "iopub.status.busy": "2025-09-21T11:05:35.115000Z",
     "iopub.status.idle": "2025-09-21T11:05:35.141206Z",
     "shell.execute_reply": "2025-09-21T11:05:35.140393Z"
    },
    "papermill": {
     "duration": 0.038625,
     "end_time": "2025-09-21T11:05:35.142833",
     "exception": false,
     "start_time": "2025-09-21T11:05:35.104208",
     "status": "completed"
    },
    "tags": []
   },
   "outputs": [
    {
     "data": {
      "text/html": [
       "<div>\n",
       "<style scoped>\n",
       "    .dataframe tbody tr th:only-of-type {\n",
       "        vertical-align: middle;\n",
       "    }\n",
       "\n",
       "    .dataframe tbody tr th {\n",
       "        vertical-align: top;\n",
       "    }\n",
       "\n",
       "    .dataframe thead th {\n",
       "        text-align: right;\n",
       "    }\n",
       "</style>\n",
       "<table border=\"1\" class=\"dataframe\">\n",
       "  <thead>\n",
       "    <tr style=\"text-align: right;\">\n",
       "      <th></th>\n",
       "      <th>match_id</th>\n",
       "      <th>year</th>\n",
       "      <th>venue</th>\n",
       "      <th>tournament</th>\n",
       "      <th>india_runs</th>\n",
       "      <th>pak_runs</th>\n",
       "      <th>toss_winner</th>\n",
       "      <th>bat_first</th>\n",
       "      <th>india_wickets</th>\n",
       "      <th>pak_wickets</th>\n",
       "      <th>winner</th>\n",
       "      <th>pitch_condition</th>\n",
       "    </tr>\n",
       "  </thead>\n",
       "  <tbody>\n",
       "    <tr>\n",
       "      <th>0</th>\n",
       "      <td>1</td>\n",
       "      <td>2021</td>\n",
       "      <td>New York</td>\n",
       "      <td>WorldCup</td>\n",
       "      <td>166</td>\n",
       "      <td>184</td>\n",
       "      <td>Pakistan</td>\n",
       "      <td>Pakistan</td>\n",
       "      <td>2</td>\n",
       "      <td>7</td>\n",
       "      <td>Pakistan</td>\n",
       "      <td>Batting-friendly</td>\n",
       "    </tr>\n",
       "    <tr>\n",
       "      <th>1</th>\n",
       "      <td>2</td>\n",
       "      <td>2010</td>\n",
       "      <td>New York</td>\n",
       "      <td>AsiaCup</td>\n",
       "      <td>179</td>\n",
       "      <td>156</td>\n",
       "      <td>Pakistan</td>\n",
       "      <td>Pakistan</td>\n",
       "      <td>6</td>\n",
       "      <td>7</td>\n",
       "      <td>India</td>\n",
       "      <td>Bowler-friendly</td>\n",
       "    </tr>\n",
       "    <tr>\n",
       "      <th>2</th>\n",
       "      <td>3</td>\n",
       "      <td>2020</td>\n",
       "      <td>Lahore</td>\n",
       "      <td>AsiaCup</td>\n",
       "      <td>126</td>\n",
       "      <td>146</td>\n",
       "      <td>Pakistan</td>\n",
       "      <td>Pakistan</td>\n",
       "      <td>2</td>\n",
       "      <td>5</td>\n",
       "      <td>Pakistan</td>\n",
       "      <td>Bowler-friendly</td>\n",
       "    </tr>\n",
       "    <tr>\n",
       "      <th>3</th>\n",
       "      <td>4</td>\n",
       "      <td>2010</td>\n",
       "      <td>New York</td>\n",
       "      <td>AsiaCup</td>\n",
       "      <td>181</td>\n",
       "      <td>104</td>\n",
       "      <td>Pakistan</td>\n",
       "      <td>Pakistan</td>\n",
       "      <td>3</td>\n",
       "      <td>4</td>\n",
       "      <td>India</td>\n",
       "      <td>Balanced</td>\n",
       "    </tr>\n",
       "    <tr>\n",
       "      <th>4</th>\n",
       "      <td>5</td>\n",
       "      <td>2012</td>\n",
       "      <td>Kolkata</td>\n",
       "      <td>AsiaCup</td>\n",
       "      <td>170</td>\n",
       "      <td>182</td>\n",
       "      <td>Pakistan</td>\n",
       "      <td>India</td>\n",
       "      <td>3</td>\n",
       "      <td>10</td>\n",
       "      <td>Pakistan</td>\n",
       "      <td>Balanced</td>\n",
       "    </tr>\n",
       "  </tbody>\n",
       "</table>\n",
       "</div>"
      ],
      "text/plain": [
       "   match_id  year     venue tournament  india_runs  pak_runs toss_winner  \\\n",
       "0         1  2021  New York   WorldCup         166       184    Pakistan   \n",
       "1         2  2010  New York    AsiaCup         179       156    Pakistan   \n",
       "2         3  2020    Lahore    AsiaCup         126       146    Pakistan   \n",
       "3         4  2010  New York    AsiaCup         181       104    Pakistan   \n",
       "4         5  2012   Kolkata    AsiaCup         170       182    Pakistan   \n",
       "\n",
       "  bat_first  india_wickets  pak_wickets    winner   pitch_condition  \n",
       "0  Pakistan              2            7  Pakistan  Batting-friendly  \n",
       "1  Pakistan              6            7     India   Bowler-friendly  \n",
       "2  Pakistan              2            5  Pakistan   Bowler-friendly  \n",
       "3  Pakistan              3            4     India          Balanced  \n",
       "4     India              3           10  Pakistan          Balanced  "
      ]
     },
     "execution_count": 6,
     "metadata": {},
     "output_type": "execute_result"
    }
   ],
   "source": [
    "df.head()"
   ]
  },
  {
   "cell_type": "code",
   "execution_count": 7,
   "id": "2725ac2c",
   "metadata": {
    "execution": {
     "iopub.execute_input": "2025-09-21T11:05:35.163015Z",
     "iopub.status.busy": "2025-09-21T11:05:35.162681Z",
     "iopub.status.idle": "2025-09-21T11:05:35.174583Z",
     "shell.execute_reply": "2025-09-21T11:05:35.173824Z"
    },
    "papermill": {
     "duration": 0.023883,
     "end_time": "2025-09-21T11:05:35.176377",
     "exception": false,
     "start_time": "2025-09-21T11:05:35.152494",
     "status": "completed"
    },
    "tags": []
   },
   "outputs": [
    {
     "data": {
      "text/html": [
       "<div>\n",
       "<style scoped>\n",
       "    .dataframe tbody tr th:only-of-type {\n",
       "        vertical-align: middle;\n",
       "    }\n",
       "\n",
       "    .dataframe tbody tr th {\n",
       "        vertical-align: top;\n",
       "    }\n",
       "\n",
       "    .dataframe thead th {\n",
       "        text-align: right;\n",
       "    }\n",
       "</style>\n",
       "<table border=\"1\" class=\"dataframe\">\n",
       "  <thead>\n",
       "    <tr style=\"text-align: right;\">\n",
       "      <th></th>\n",
       "      <th>match_id</th>\n",
       "      <th>year</th>\n",
       "      <th>venue</th>\n",
       "      <th>tournament</th>\n",
       "      <th>india_runs</th>\n",
       "      <th>pak_runs</th>\n",
       "      <th>toss_winner</th>\n",
       "      <th>bat_first</th>\n",
       "      <th>india_wickets</th>\n",
       "      <th>pak_wickets</th>\n",
       "      <th>winner</th>\n",
       "      <th>pitch_condition</th>\n",
       "    </tr>\n",
       "  </thead>\n",
       "  <tbody>\n",
       "    <tr>\n",
       "      <th>996</th>\n",
       "      <td>997</td>\n",
       "      <td>2012</td>\n",
       "      <td>Kolkata</td>\n",
       "      <td>AsiaCup</td>\n",
       "      <td>173</td>\n",
       "      <td>177</td>\n",
       "      <td>India</td>\n",
       "      <td>Pakistan</td>\n",
       "      <td>3</td>\n",
       "      <td>8</td>\n",
       "      <td>Pakistan</td>\n",
       "      <td>Bowler-friendly</td>\n",
       "    </tr>\n",
       "    <tr>\n",
       "      <th>997</th>\n",
       "      <td>998</td>\n",
       "      <td>2008</td>\n",
       "      <td>Durban</td>\n",
       "      <td>Bilateral</td>\n",
       "      <td>124</td>\n",
       "      <td>200</td>\n",
       "      <td>Pakistan</td>\n",
       "      <td>Pakistan</td>\n",
       "      <td>1</td>\n",
       "      <td>9</td>\n",
       "      <td>Pakistan</td>\n",
       "      <td>Bowler-friendly</td>\n",
       "    </tr>\n",
       "    <tr>\n",
       "      <th>998</th>\n",
       "      <td>999</td>\n",
       "      <td>2017</td>\n",
       "      <td>New York</td>\n",
       "      <td>WorldCup</td>\n",
       "      <td>198</td>\n",
       "      <td>103</td>\n",
       "      <td>India</td>\n",
       "      <td>Pakistan</td>\n",
       "      <td>2</td>\n",
       "      <td>5</td>\n",
       "      <td>India</td>\n",
       "      <td>Batting-friendly</td>\n",
       "    </tr>\n",
       "    <tr>\n",
       "      <th>999</th>\n",
       "      <td>1000</td>\n",
       "      <td>2020</td>\n",
       "      <td>Lahore</td>\n",
       "      <td>WorldCup</td>\n",
       "      <td>196</td>\n",
       "      <td>197</td>\n",
       "      <td>Pakistan</td>\n",
       "      <td>India</td>\n",
       "      <td>9</td>\n",
       "      <td>4</td>\n",
       "      <td>Pakistan</td>\n",
       "      <td>Batting-friendly</td>\n",
       "    </tr>\n",
       "    <tr>\n",
       "      <th>1000</th>\n",
       "      <td>1001</td>\n",
       "      <td>2024</td>\n",
       "      <td>New York</td>\n",
       "      <td>WorldCup</td>\n",
       "      <td>119</td>\n",
       "      <td>113</td>\n",
       "      <td>Pakistan</td>\n",
       "      <td>India</td>\n",
       "      <td>8</td>\n",
       "      <td>7</td>\n",
       "      <td>India</td>\n",
       "      <td>Bowler-friendly</td>\n",
       "    </tr>\n",
       "  </tbody>\n",
       "</table>\n",
       "</div>"
      ],
      "text/plain": [
       "      match_id  year     venue tournament  india_runs  pak_runs toss_winner  \\\n",
       "996        997  2012   Kolkata    AsiaCup         173       177       India   \n",
       "997        998  2008    Durban  Bilateral         124       200    Pakistan   \n",
       "998        999  2017  New York   WorldCup         198       103       India   \n",
       "999       1000  2020    Lahore   WorldCup         196       197    Pakistan   \n",
       "1000      1001  2024  New York   WorldCup         119       113    Pakistan   \n",
       "\n",
       "     bat_first  india_wickets  pak_wickets    winner   pitch_condition  \n",
       "996   Pakistan              3            8  Pakistan   Bowler-friendly  \n",
       "997   Pakistan              1            9  Pakistan   Bowler-friendly  \n",
       "998   Pakistan              2            5     India  Batting-friendly  \n",
       "999      India              9            4  Pakistan  Batting-friendly  \n",
       "1000     India              8            7     India   Bowler-friendly  "
      ]
     },
     "execution_count": 7,
     "metadata": {},
     "output_type": "execute_result"
    }
   ],
   "source": [
    "df.tail()"
   ]
  },
  {
   "cell_type": "code",
   "execution_count": 8,
   "id": "c267b4cd",
   "metadata": {
    "execution": {
     "iopub.execute_input": "2025-09-21T11:05:35.196766Z",
     "iopub.status.busy": "2025-09-21T11:05:35.196489Z",
     "iopub.status.idle": "2025-09-21T11:05:35.218084Z",
     "shell.execute_reply": "2025-09-21T11:05:35.216946Z"
    },
    "papermill": {
     "duration": 0.033401,
     "end_time": "2025-09-21T11:05:35.219595",
     "exception": false,
     "start_time": "2025-09-21T11:05:35.186194",
     "status": "completed"
    },
    "tags": []
   },
   "outputs": [
    {
     "name": "stdout",
     "output_type": "stream",
     "text": [
      "<class 'pandas.core.frame.DataFrame'>\n",
      "RangeIndex: 1001 entries, 0 to 1000\n",
      "Data columns (total 12 columns):\n",
      " #   Column           Non-Null Count  Dtype \n",
      "---  ------           --------------  ----- \n",
      " 0   match_id         1001 non-null   int64 \n",
      " 1   year             1001 non-null   int64 \n",
      " 2   venue            1001 non-null   object\n",
      " 3   tournament       1001 non-null   object\n",
      " 4   india_runs       1001 non-null   int64 \n",
      " 5   pak_runs         1001 non-null   int64 \n",
      " 6   toss_winner      1001 non-null   object\n",
      " 7   bat_first        1001 non-null   object\n",
      " 8   india_wickets    1001 non-null   int64 \n",
      " 9   pak_wickets      1001 non-null   int64 \n",
      " 10  winner           1001 non-null   object\n",
      " 11  pitch_condition  1001 non-null   object\n",
      "dtypes: int64(6), object(6)\n",
      "memory usage: 94.0+ KB\n"
     ]
    }
   ],
   "source": [
    "df.info()"
   ]
  },
  {
   "cell_type": "code",
   "execution_count": 9,
   "id": "aeaa8902",
   "metadata": {
    "execution": {
     "iopub.execute_input": "2025-09-21T11:05:35.240221Z",
     "iopub.status.busy": "2025-09-21T11:05:35.239858Z",
     "iopub.status.idle": "2025-09-21T11:05:35.245705Z",
     "shell.execute_reply": "2025-09-21T11:05:35.244420Z"
    },
    "papermill": {
     "duration": 0.017798,
     "end_time": "2025-09-21T11:05:35.247244",
     "exception": false,
     "start_time": "2025-09-21T11:05:35.229446",
     "status": "completed"
    },
    "tags": []
   },
   "outputs": [
    {
     "data": {
      "text/plain": [
       "(1001, 12)"
      ]
     },
     "execution_count": 9,
     "metadata": {},
     "output_type": "execute_result"
    }
   ],
   "source": [
    "df.shape"
   ]
  },
  {
   "cell_type": "code",
   "execution_count": 10,
   "id": "598a3f91",
   "metadata": {
    "execution": {
     "iopub.execute_input": "2025-09-21T11:05:35.267801Z",
     "iopub.status.busy": "2025-09-21T11:05:35.267494Z",
     "iopub.status.idle": "2025-09-21T11:05:35.300021Z",
     "shell.execute_reply": "2025-09-21T11:05:35.299201Z"
    },
    "papermill": {
     "duration": 0.044567,
     "end_time": "2025-09-21T11:05:35.301496",
     "exception": false,
     "start_time": "2025-09-21T11:05:35.256929",
     "status": "completed"
    },
    "tags": []
   },
   "outputs": [
    {
     "data": {
      "text/html": [
       "<div>\n",
       "<style scoped>\n",
       "    .dataframe tbody tr th:only-of-type {\n",
       "        vertical-align: middle;\n",
       "    }\n",
       "\n",
       "    .dataframe tbody tr th {\n",
       "        vertical-align: top;\n",
       "    }\n",
       "\n",
       "    .dataframe thead th {\n",
       "        text-align: right;\n",
       "    }\n",
       "</style>\n",
       "<table border=\"1\" class=\"dataframe\">\n",
       "  <thead>\n",
       "    <tr style=\"text-align: right;\">\n",
       "      <th></th>\n",
       "      <th>match_id</th>\n",
       "      <th>year</th>\n",
       "      <th>india_runs</th>\n",
       "      <th>pak_runs</th>\n",
       "      <th>india_wickets</th>\n",
       "      <th>pak_wickets</th>\n",
       "    </tr>\n",
       "  </thead>\n",
       "  <tbody>\n",
       "    <tr>\n",
       "      <th>count</th>\n",
       "      <td>1001.000000</td>\n",
       "      <td>1001.000000</td>\n",
       "      <td>1001.000000</td>\n",
       "      <td>1001.000000</td>\n",
       "      <td>1001.000000</td>\n",
       "      <td>1001.000000</td>\n",
       "    </tr>\n",
       "    <tr>\n",
       "      <th>mean</th>\n",
       "      <td>501.000000</td>\n",
       "      <td>2015.379620</td>\n",
       "      <td>151.407592</td>\n",
       "      <td>149.049950</td>\n",
       "      <td>5.121878</td>\n",
       "      <td>4.898102</td>\n",
       "    </tr>\n",
       "    <tr>\n",
       "      <th>std</th>\n",
       "      <td>289.108111</td>\n",
       "      <td>5.193818</td>\n",
       "      <td>28.707520</td>\n",
       "      <td>29.605228</td>\n",
       "      <td>3.182630</td>\n",
       "      <td>3.165376</td>\n",
       "    </tr>\n",
       "    <tr>\n",
       "      <th>min</th>\n",
       "      <td>1.000000</td>\n",
       "      <td>2007.000000</td>\n",
       "      <td>100.000000</td>\n",
       "      <td>100.000000</td>\n",
       "      <td>0.000000</td>\n",
       "      <td>0.000000</td>\n",
       "    </tr>\n",
       "    <tr>\n",
       "      <th>25%</th>\n",
       "      <td>251.000000</td>\n",
       "      <td>2011.000000</td>\n",
       "      <td>128.000000</td>\n",
       "      <td>122.000000</td>\n",
       "      <td>2.000000</td>\n",
       "      <td>2.000000</td>\n",
       "    </tr>\n",
       "    <tr>\n",
       "      <th>50%</th>\n",
       "      <td>501.000000</td>\n",
       "      <td>2015.000000</td>\n",
       "      <td>152.000000</td>\n",
       "      <td>148.000000</td>\n",
       "      <td>5.000000</td>\n",
       "      <td>5.000000</td>\n",
       "    </tr>\n",
       "    <tr>\n",
       "      <th>75%</th>\n",
       "      <td>751.000000</td>\n",
       "      <td>2020.000000</td>\n",
       "      <td>176.000000</td>\n",
       "      <td>175.000000</td>\n",
       "      <td>8.000000</td>\n",
       "      <td>8.000000</td>\n",
       "    </tr>\n",
       "    <tr>\n",
       "      <th>max</th>\n",
       "      <td>1001.000000</td>\n",
       "      <td>2024.000000</td>\n",
       "      <td>200.000000</td>\n",
       "      <td>200.000000</td>\n",
       "      <td>10.000000</td>\n",
       "      <td>10.000000</td>\n",
       "    </tr>\n",
       "  </tbody>\n",
       "</table>\n",
       "</div>"
      ],
      "text/plain": [
       "          match_id         year   india_runs     pak_runs  india_wickets  \\\n",
       "count  1001.000000  1001.000000  1001.000000  1001.000000    1001.000000   \n",
       "mean    501.000000  2015.379620   151.407592   149.049950       5.121878   \n",
       "std     289.108111     5.193818    28.707520    29.605228       3.182630   \n",
       "min       1.000000  2007.000000   100.000000   100.000000       0.000000   \n",
       "25%     251.000000  2011.000000   128.000000   122.000000       2.000000   \n",
       "50%     501.000000  2015.000000   152.000000   148.000000       5.000000   \n",
       "75%     751.000000  2020.000000   176.000000   175.000000       8.000000   \n",
       "max    1001.000000  2024.000000   200.000000   200.000000      10.000000   \n",
       "\n",
       "       pak_wickets  \n",
       "count  1001.000000  \n",
       "mean      4.898102  \n",
       "std       3.165376  \n",
       "min       0.000000  \n",
       "25%       2.000000  \n",
       "50%       5.000000  \n",
       "75%       8.000000  \n",
       "max      10.000000  "
      ]
     },
     "execution_count": 10,
     "metadata": {},
     "output_type": "execute_result"
    }
   ],
   "source": [
    "df.describe()"
   ]
  },
  {
   "cell_type": "code",
   "execution_count": 11,
   "id": "d3c82622",
   "metadata": {
    "execution": {
     "iopub.execute_input": "2025-09-21T11:05:35.322611Z",
     "iopub.status.busy": "2025-09-21T11:05:35.322308Z",
     "iopub.status.idle": "2025-09-21T11:05:35.329585Z",
     "shell.execute_reply": "2025-09-21T11:05:35.328829Z"
    },
    "papermill": {
     "duration": 0.019271,
     "end_time": "2025-09-21T11:05:35.330915",
     "exception": false,
     "start_time": "2025-09-21T11:05:35.311644",
     "status": "completed"
    },
    "tags": []
   },
   "outputs": [
    {
     "data": {
      "text/plain": [
       "match_id           0\n",
       "year               0\n",
       "venue              0\n",
       "tournament         0\n",
       "india_runs         0\n",
       "pak_runs           0\n",
       "toss_winner        0\n",
       "bat_first          0\n",
       "india_wickets      0\n",
       "pak_wickets        0\n",
       "winner             0\n",
       "pitch_condition    0\n",
       "dtype: int64"
      ]
     },
     "execution_count": 11,
     "metadata": {},
     "output_type": "execute_result"
    }
   ],
   "source": [
    "df.isnull().sum()"
   ]
  },
  {
   "cell_type": "code",
   "execution_count": 12,
   "id": "975e21f9",
   "metadata": {
    "execution": {
     "iopub.execute_input": "2025-09-21T11:05:35.352740Z",
     "iopub.status.busy": "2025-09-21T11:05:35.352419Z",
     "iopub.status.idle": "2025-09-21T11:05:35.360064Z",
     "shell.execute_reply": "2025-09-21T11:05:35.359365Z"
    },
    "papermill": {
     "duration": 0.020062,
     "end_time": "2025-09-21T11:05:35.361463",
     "exception": false,
     "start_time": "2025-09-21T11:05:35.341401",
     "status": "completed"
    },
    "tags": []
   },
   "outputs": [
    {
     "data": {
      "text/plain": [
       "0"
      ]
     },
     "execution_count": 12,
     "metadata": {},
     "output_type": "execute_result"
    }
   ],
   "source": [
    "df.duplicated().sum()"
   ]
  },
  {
   "cell_type": "code",
   "execution_count": 13,
   "id": "bb5bc8a2",
   "metadata": {
    "execution": {
     "iopub.execute_input": "2025-09-21T11:05:35.450320Z",
     "iopub.status.busy": "2025-09-21T11:05:35.450008Z",
     "iopub.status.idle": "2025-09-21T11:05:35.455965Z",
     "shell.execute_reply": "2025-09-21T11:05:35.455030Z"
    },
    "papermill": {
     "duration": 0.018365,
     "end_time": "2025-09-21T11:05:35.457277",
     "exception": false,
     "start_time": "2025-09-21T11:05:35.438912",
     "status": "completed"
    },
    "tags": []
   },
   "outputs": [
    {
     "name": "stdout",
     "output_type": "stream",
     "text": [
      "\n",
      "Winner Count:\n",
      " winner\n",
      "India       532\n",
      "Pakistan    469\n",
      "Name: count, dtype: int64\n"
     ]
    }
   ],
   "source": [
    "print(\"\\nWinner Count:\\n\", df['winner'].value_counts())"
   ]
  },
  {
   "cell_type": "code",
   "execution_count": 14,
   "id": "4c36b0fa",
   "metadata": {
    "execution": {
     "iopub.execute_input": "2025-09-21T11:05:35.478516Z",
     "iopub.status.busy": "2025-09-21T11:05:35.478211Z",
     "iopub.status.idle": "2025-09-21T11:05:35.484216Z",
     "shell.execute_reply": "2025-09-21T11:05:35.483264Z"
    },
    "papermill": {
     "duration": 0.018246,
     "end_time": "2025-09-21T11:05:35.485643",
     "exception": false,
     "start_time": "2025-09-21T11:05:35.467397",
     "status": "completed"
    },
    "tags": []
   },
   "outputs": [
    {
     "name": "stdout",
     "output_type": "stream",
     "text": [
      "\n",
      "Tournament Count:\n",
      " tournament\n",
      "AsiaCup      346\n",
      "WorldCup     337\n",
      "Bilateral    318\n",
      "Name: count, dtype: int64\n"
     ]
    }
   ],
   "source": [
    "print(\"\\nTournament Count:\\n\", df['tournament'].value_counts())"
   ]
  },
  {
   "cell_type": "code",
   "execution_count": 15,
   "id": "2365b8ea",
   "metadata": {
    "execution": {
     "iopub.execute_input": "2025-09-21T11:05:35.508278Z",
     "iopub.status.busy": "2025-09-21T11:05:35.507356Z",
     "iopub.status.idle": "2025-09-21T11:05:35.513812Z",
     "shell.execute_reply": "2025-09-21T11:05:35.512937Z"
    },
    "papermill": {
     "duration": 0.019284,
     "end_time": "2025-09-21T11:05:35.515319",
     "exception": false,
     "start_time": "2025-09-21T11:05:35.496035",
     "status": "completed"
    },
    "tags": []
   },
   "outputs": [
    {
     "name": "stdout",
     "output_type": "stream",
     "text": [
      "\n",
      "Top 10 Venues:\n",
      " venue\n",
      "Dubai        116\n",
      "Durban       111\n",
      "Karachi      104\n",
      "Melbourne    104\n",
      "Colombo      101\n",
      "Delhi         99\n",
      "New York      95\n",
      "Kolkata       95\n",
      "Lahore        94\n",
      "Dhaka         82\n",
      "Name: count, dtype: int64\n"
     ]
    }
   ],
   "source": [
    "print(\"\\nTop 10 Venues:\\n\", df['venue'].value_counts().head(10))"
   ]
  },
  {
   "cell_type": "markdown",
   "id": "bb239d60",
   "metadata": {
    "papermill": {
     "duration": 0.01007,
     "end_time": "2025-09-21T11:05:35.536007",
     "exception": false,
     "start_time": "2025-09-21T11:05:35.525937",
     "status": "completed"
    },
    "tags": []
   },
   "source": [
    "# 3 Visualization"
   ]
  },
  {
   "cell_type": "code",
   "execution_count": 16,
   "id": "b217ffb1",
   "metadata": {
    "execution": {
     "iopub.execute_input": "2025-09-21T11:05:35.558625Z",
     "iopub.status.busy": "2025-09-21T11:05:35.558184Z",
     "iopub.status.idle": "2025-09-21T11:05:35.585223Z",
     "shell.execute_reply": "2025-09-21T11:05:35.584466Z"
    },
    "papermill": {
     "duration": 0.040422,
     "end_time": "2025-09-21T11:05:35.586742",
     "exception": false,
     "start_time": "2025-09-21T11:05:35.546320",
     "status": "completed"
    },
    "tags": []
   },
   "outputs": [
    {
     "data": {
      "text/plain": [
       "<Figure size 1200x600 with 0 Axes>"
      ]
     },
     "execution_count": 16,
     "metadata": {},
     "output_type": "execute_result"
    },
    {
     "data": {
      "text/plain": [
       "<Figure size 1200x600 with 0 Axes>"
      ]
     },
     "metadata": {},
     "output_type": "display_data"
    }
   ],
   "source": [
    "plt.style.use(\"seaborn-whitegrid\")\n",
    "plt.figure(figsize=(12,6))"
   ]
  },
  {
   "cell_type": "markdown",
   "id": "3f3a6937",
   "metadata": {
    "papermill": {
     "duration": 0.010482,
     "end_time": "2025-09-21T11:05:35.607848",
     "exception": false,
     "start_time": "2025-09-21T11:05:35.597366",
     "status": "completed"
    },
    "tags": []
   },
   "source": [
    "## 3.1 Runs comparison (India vs Pakistan)"
   ]
  },
  {
   "cell_type": "code",
   "execution_count": 17,
   "id": "c88c906c",
   "metadata": {
    "execution": {
     "iopub.execute_input": "2025-09-21T11:05:35.630002Z",
     "iopub.status.busy": "2025-09-21T11:05:35.629681Z",
     "iopub.status.idle": "2025-09-21T11:05:36.146960Z",
     "shell.execute_reply": "2025-09-21T11:05:36.146055Z"
    },
    "papermill": {
     "duration": 0.530838,
     "end_time": "2025-09-21T11:05:36.149164",
     "exception": false,
     "start_time": "2025-09-21T11:05:35.618326",
     "status": "completed"
    },
    "tags": []
   },
   "outputs": [
    {
     "data": {
      "image/png": "[encoded data removed]",
      "text/plain": [
       "<Figure size 1200x600 with 1 Axes>"
      ]
     },
     "metadata": {},
     "output_type": "display_data"
    }
   ],
   "source": [
    "plt.figure(figsize=(12,6))\n",
    "sns.histplot(df['india_runs'], color='blue', label='India Runs', kde=True, bins=30)\n",
    "sns.histplot(df['pak_runs'], color='green', label='Pakistan Runs', kde=True, bins=30)\n",
    "plt.legend()\n",
    "plt.title(\"Runs Distribution: India vs Pakistan\")\n",
    "plt.xlabel(\"Runs\")\n",
    "plt.ylabel(\"Frequency\")\n",
    "plt.show()"
   ]
  },
  {
   "cell_type": "markdown",
   "id": "d1e309c4",
   "metadata": {
    "papermill": {
     "duration": 0.011232,
     "end_time": "2025-09-21T11:05:36.172575",
     "exception": false,
     "start_time": "2025-09-21T11:05:36.161343",
     "status": "completed"
    },
    "tags": []
   },
   "source": [
    "## 3.2 Toss vs Match Winner relation"
   ]
  },
  {
   "cell_type": "code",
   "execution_count": 18,
   "id": "1108b23a",
   "metadata": {
    "execution": {
     "iopub.execute_input": "2025-09-21T11:05:36.196359Z",
     "iopub.status.busy": "2025-09-21T11:05:36.196044Z",
     "iopub.status.idle": "2025-09-21T11:05:36.366151Z",
     "shell.execute_reply": "2025-09-21T11:05:36.365268Z"
    },
    "papermill": {
     "duration": 0.183866,
     "end_time": "2025-09-21T11:05:36.367728",
     "exception": false,
     "start_time": "2025-09-21T11:05:36.183862",
     "status": "completed"
    },
    "tags": []
   },
   "outputs": [
    {
     "data": {
      "image/png": "[encoded data removed]",
      "text/plain": [
       "<Figure size 800x600 with 1 Axes>"
      ]
     },
     "metadata": {},
     "output_type": "display_data"
    }
   ],
   "source": [
    "plt.figure(figsize=(8,6))\n",
    "sns.countplot(data=df, x=\"toss_winner\", hue=\"winner\", palette=\"Set2\")\n",
    "plt.title(\"Toss Winner vs Match Winner\")\n",
    "plt.xlabel(\"Toss Winner\")\n",
    "plt.ylabel(\"Match Count\")\n",
    "plt.show()"
   ]
  },
  {
   "cell_type": "markdown",
   "id": "3b617253",
   "metadata": {
    "papermill": {
     "duration": 0.012215,
     "end_time": "2025-09-21T11:05:36.392035",
     "exception": false,
     "start_time": "2025-09-21T11:05:36.379820",
     "status": "completed"
    },
    "tags": []
   },
   "source": [
    "## 3.3 Effect of Pitch Condition on Match Outcome"
   ]
  },
  {
   "cell_type": "code",
   "execution_count": 19,
   "id": "b98f3dd8",
   "metadata": {
    "execution": {
     "iopub.execute_input": "2025-09-21T11:05:36.418197Z",
     "iopub.status.busy": "2025-09-21T11:05:36.417855Z",
     "iopub.status.idle": "2025-09-21T11:05:36.620333Z",
     "shell.execute_reply": "2025-09-21T11:05:36.619518Z"
    },
    "papermill": {
     "duration": 0.217324,
     "end_time": "2025-09-21T11:05:36.621838",
     "exception": false,
     "start_time": "2025-09-21T11:05:36.404514",
     "status": "completed"
    },
    "tags": []
   },
   "outputs": [
    {
     "data": {
      "image/png": "[encoded data removed]",
      "text/plain": [
       "<Figure size 1000x600 with 1 Axes>"
      ]
     },
     "metadata": {},
     "output_type": "display_data"
    }
   ],
   "source": [
    "plt.figure(figsize=(10,6))\n",
    "sns.countplot(data=df, x=\"pitch_condition\", hue=\"winner\", palette=\"coolwarm\")\n",
    "plt.title(\"Pitch Condition vs Match Winner\")\n",
    "plt.xlabel(\"Pitch Condition\")\n",
    "plt.ylabel(\"Match Count\")\n",
    "plt.show()"
   ]
  },
  {
   "cell_type": "markdown",
   "id": "005c187c",
   "metadata": {
    "papermill": {
     "duration": 0.013232,
     "end_time": "2025-09-21T11:05:36.649283",
     "exception": false,
     "start_time": "2025-09-21T11:05:36.636051",
     "status": "completed"
    },
    "tags": []
   },
   "source": [
    "## 3.4 Correlation Heatmap for numerical features"
   ]
  },
  {
   "cell_type": "code",
   "execution_count": 20,
   "id": "63056a0d",
   "metadata": {
    "execution": {
     "iopub.execute_input": "2025-09-21T11:05:36.677798Z",
     "iopub.status.busy": "2025-09-21T11:05:36.677507Z",
     "iopub.status.idle": "2025-09-21T11:05:37.042727Z",
     "shell.execute_reply": "2025-09-21T11:05:37.041942Z"
    },
    "papermill": {
     "duration": 0.381145,
     "end_time": "2025-09-21T11:05:37.044326",
     "exception": false,
     "start_time": "2025-09-21T11:05:36.663181",
     "status": "completed"
    },
    "tags": []
   },
   "outputs": [
    {
     "data": {
      "image/png": "[encoded data removed]",
      "text/plain": [
       "<Figure size 800x600 with 2 Axes>"
      ]
     },
     "metadata": {},
     "output_type": "display_data"
    }
   ],
   "source": [
    "plt.figure(figsize=(8,6))\n",
    "sns.heatmap(df[['india_runs', 'pak_runs', 'india_wickets', 'pak_wickets', 'year']].corr(), \n",
    "            annot=True, cmap=\"coolwarm\", fmt=\".2f\")\n",
    "plt.title(\"Correlation Heatmap (Numerical Features)\")\n",
    "plt.show()"
   ]
  },
  {
   "cell_type": "markdown",
   "id": "b0ba9296",
   "metadata": {
    "papermill": {
     "duration": 0.014008,
     "end_time": "2025-09-21T11:05:37.072926",
     "exception": false,
     "start_time": "2025-09-21T11:05:37.058918",
     "status": "completed"
    },
    "tags": []
   },
   "source": [
    "## 3.5  Winner vs Run Difference Heatmap"
   ]
  },
  {
   "cell_type": "code",
   "execution_count": 21,
   "id": "bd13323c",
   "metadata": {
    "execution": {
     "iopub.execute_input": "2025-09-21T11:05:37.102369Z",
     "iopub.status.busy": "2025-09-21T11:05:37.102075Z",
     "iopub.status.idle": "2025-09-21T11:05:37.325270Z",
     "shell.execute_reply": "2025-09-21T11:05:37.324283Z"
    },
    "papermill": {
     "duration": 0.239687,
     "end_time": "2025-09-21T11:05:37.326719",
     "exception": false,
     "start_time": "2025-09-21T11:05:37.087032",
     "status": "completed"
    },
    "tags": []
   },
   "outputs": [
    {
     "data": {
      "image/png": "[encoded data removed]",
      "text/plain": [
       "<Figure size 1000x600 with 2 Axes>"
      ]
     },
     "metadata": {},
     "output_type": "display_data"
    }
   ],
   "source": [
    "df['run_diff'] = df['india_runs'] - df['pak_runs']\n",
    "\n",
    "plt.figure(figsize=(10,6))\n",
    "pivot_table = df.pivot_table(index=\"winner\", columns=\"pitch_condition\", values=\"run_diff\", aggfunc=\"mean\")\n",
    "sns.heatmap(pivot_table, annot=True, cmap=\"YlGnBu\", fmt=\".1f\")\n",
    "plt.title(\"Average Run Difference by Winner & Pitch Condition\")\n",
    "plt.show()"
   ]
  },
  {
   "cell_type": "markdown",
   "id": "b8fd83db",
   "metadata": {
    "papermill": {
     "duration": 0.015139,
     "end_time": "2025-09-21T11:05:37.357945",
     "exception": false,
     "start_time": "2025-09-21T11:05:37.342806",
     "status": "completed"
    },
    "tags": []
   },
   "source": [
    "# 4 Feature Engineering"
   ]
  },
  {
   "cell_type": "markdown",
   "id": "f8ba3159",
   "metadata": {
    "papermill": {
     "duration": 0.015023,
     "end_time": "2025-09-21T11:05:37.388418",
     "exception": false,
     "start_time": "2025-09-21T11:05:37.373395",
     "status": "completed"
    },
    "tags": []
   },
   "source": [
    "## 4.1 Create new feature: Run Difference"
   ]
  },
  {
   "cell_type": "code",
   "execution_count": 22,
   "id": "d7524709",
   "metadata": {
    "execution": {
     "iopub.execute_input": "2025-09-21T11:05:37.420708Z",
     "iopub.status.busy": "2025-09-21T11:05:37.420403Z",
     "iopub.status.idle": "2025-09-21T11:05:37.425824Z",
     "shell.execute_reply": "2025-09-21T11:05:37.425055Z"
    },
    "papermill": {
     "duration": 0.023562,
     "end_time": "2025-09-21T11:05:37.427310",
     "exception": false,
     "start_time": "2025-09-21T11:05:37.403748",
     "status": "completed"
    },
    "tags": []
   },
   "outputs": [],
   "source": [
    "df['run_difference'] = df['india_runs'] - df['pak_runs']"
   ]
  },
  {
   "cell_type": "markdown",
   "id": "d3681743",
   "metadata": {
    "papermill": {
     "duration": 0.015332,
     "end_time": "2025-09-21T11:05:37.459030",
     "exception": false,
     "start_time": "2025-09-21T11:05:37.443698",
     "status": "completed"
    },
    "tags": []
   },
   "source": [
    "## 4.2 Encode categorical variables"
   ]
  },
  {
   "cell_type": "code",
   "execution_count": 23,
   "id": "35078d08",
   "metadata": {
    "execution": {
     "iopub.execute_input": "2025-09-21T11:05:37.490952Z",
     "iopub.status.busy": "2025-09-21T11:05:37.490646Z",
     "iopub.status.idle": "2025-09-21T11:05:37.500054Z",
     "shell.execute_reply": "2025-09-21T11:05:37.499252Z"
    },
    "papermill": {
     "duration": 0.027066,
     "end_time": "2025-09-21T11:05:37.501511",
     "exception": false,
     "start_time": "2025-09-21T11:05:37.474445",
     "status": "completed"
    },
    "tags": []
   },
   "outputs": [],
   "source": [
    "categorical_cols = ['venue', 'tournament', 'toss_winner', 'bat_first', 'winner', 'pitch_condition']\n",
    "\n",
    "label_encoders = {}\n",
    "for col in categorical_cols:\n",
    "    le = LabelEncoder()\n",
    "    df[col + \"_enc\"] = le.fit_transform(df[col])\n",
    "    label_encoders[col] = le "
   ]
  },
  {
   "cell_type": "code",
   "execution_count": 24,
   "id": "b8328f1a",
   "metadata": {
    "execution": {
     "iopub.execute_input": "2025-09-21T11:05:37.534347Z",
     "iopub.status.busy": "2025-09-21T11:05:37.533512Z",
     "iopub.status.idle": "2025-09-21T11:05:37.541861Z",
     "shell.execute_reply": "2025-09-21T11:05:37.540958Z"
    },
    "papermill": {
     "duration": 0.02607,
     "end_time": "2025-09-21T11:05:37.543409",
     "exception": false,
     "start_time": "2025-09-21T11:05:37.517339",
     "status": "completed"
    },
    "tags": []
   },
   "outputs": [
    {
     "name": "stdout",
     "output_type": "stream",
     "text": [
      "Feature Matrix Shape: (1001, 11)\n",
      "Target Distribution:\n",
      " winner\n",
      "India       532\n",
      "Pakistan    469\n",
      "Name: count, dtype: int64\n"
     ]
    }
   ],
   "source": [
    "features = ['year', 'india_runs', 'pak_runs', 'india_wickets', 'pak_wickets', \n",
    "            'run_difference', 'toss_winner_enc', 'bat_first_enc', \n",
    "            'venue_enc', 'tournament_enc', 'pitch_condition_enc']\n",
    "\n",
    "target = 'winner_enc'\n",
    "\n",
    "X = df[features]\n",
    "y = df[target]\n",
    "\n",
    "print(\"Feature Matrix Shape:\", X.shape)\n",
    "print(\"Target Distribution:\\n\", df['winner'].value_counts())"
   ]
  },
  {
   "cell_type": "markdown",
   "id": "03d3da53",
   "metadata": {
    "papermill": {
     "duration": 0.016777,
     "end_time": "2025-09-21T11:05:37.575739",
     "exception": false,
     "start_time": "2025-09-21T11:05:37.558962",
     "status": "completed"
    },
    "tags": []
   },
   "source": [
    "# Model Creation\n",
    "## Algorithms: Logistic Regression, Random Forest, XGBoost"
   ]
  },
  {
   "cell_type": "markdown",
   "id": "a4a1c669",
   "metadata": {
    "papermill": {
     "duration": 0.015141,
     "end_time": "2025-09-21T11:05:37.606385",
     "exception": false,
     "start_time": "2025-09-21T11:05:37.591244",
     "status": "completed"
    },
    "tags": []
   },
   "source": [
    "### train and split data set "
   ]
  },
  {
   "cell_type": "code",
   "execution_count": 25,
   "id": "0b42de0c",
   "metadata": {
    "execution": {
     "iopub.execute_input": "2025-09-21T11:05:37.638277Z",
     "iopub.status.busy": "2025-09-21T11:05:37.637964Z",
     "iopub.status.idle": "2025-09-21T11:05:37.646126Z",
     "shell.execute_reply": "2025-09-21T11:05:37.645205Z"
    },
    "papermill": {
     "duration": 0.025944,
     "end_time": "2025-09-21T11:05:37.647602",
     "exception": false,
     "start_time": "2025-09-21T11:05:37.621658",
     "status": "completed"
    },
    "tags": []
   },
   "outputs": [],
   "source": [
    "X_train, X_test, y_train, y_test = train_test_split(X, y, test_size=0.2, random_state=42, stratify=y)"
   ]
  },
  {
   "cell_type": "markdown",
   "id": "3bad748b",
   "metadata": {
    "papermill": {
     "duration": 0.015088,
     "end_time": "2025-09-21T11:05:37.678033",
     "exception": false,
     "start_time": "2025-09-21T11:05:37.662945",
     "status": "completed"
    },
    "tags": []
   },
   "source": [
    "## LogisticRegression "
   ]
  },
  {
   "cell_type": "code",
   "execution_count": 26,
   "id": "b1f3a5d8",
   "metadata": {
    "execution": {
     "iopub.execute_input": "2025-09-21T11:05:37.709858Z",
     "iopub.status.busy": "2025-09-21T11:05:37.709581Z",
     "iopub.status.idle": "2025-09-21T11:05:38.954234Z",
     "shell.execute_reply": "2025-09-21T11:05:38.951041Z"
    },
    "papermill": {
     "duration": 1.262902,
     "end_time": "2025-09-21T11:05:38.956227",
     "exception": false,
     "start_time": "2025-09-21T11:05:37.693325",
     "status": "completed"
    },
    "tags": []
   },
   "outputs": [],
   "source": [
    "log_reg = LogisticRegression(max_iter=1000)\n",
    "log_reg.fit(X_train, y_train)\n",
    "y_pred_log = log_reg.predict(X_test)"
   ]
  },
  {
   "cell_type": "markdown",
   "id": "04e2b901",
   "metadata": {
    "papermill": {
     "duration": 0.025534,
     "end_time": "2025-09-21T11:05:39.010956",
     "exception": false,
     "start_time": "2025-09-21T11:05:38.985422",
     "status": "completed"
    },
    "tags": []
   },
   "source": [
    "## RandomForest Classi"
   ]
  },
  {
   "cell_type": "code",
   "execution_count": 27,
   "id": "1c64a73e",
   "metadata": {
    "execution": {
     "iopub.execute_input": "2025-09-21T11:05:39.065356Z",
     "iopub.status.busy": "2025-09-21T11:05:39.064536Z",
     "iopub.status.idle": "2025-09-21T11:05:39.399141Z",
     "shell.execute_reply": "2025-09-21T11:05:39.398192Z"
    },
    "papermill": {
     "duration": 0.364285,
     "end_time": "2025-09-21T11:05:39.400766",
     "exception": false,
     "start_time": "2025-09-21T11:05:39.036481",
     "status": "completed"
    },
    "tags": []
   },
   "outputs": [],
   "source": [
    "rf = RandomForestClassifier(n_estimators=200, random_state=42)\n",
    "rf.fit(X_train, y_train)\n",
    "y_pred_rf = rf.predict(X_test)"
   ]
  },
  {
   "cell_type": "markdown",
   "id": "f8942409",
   "metadata": {
    "papermill": {
     "duration": 0.015271,
     "end_time": "2025-09-21T11:05:39.432060",
     "exception": false,
     "start_time": "2025-09-21T11:05:39.416789",
     "status": "completed"
    },
    "tags": []
   },
   "source": [
    "## XGBoost"
   ]
  },
  {
   "cell_type": "code",
   "execution_count": 28,
   "id": "8c37e7f6",
   "metadata": {
    "execution": {
     "iopub.execute_input": "2025-09-21T11:05:39.464549Z",
     "iopub.status.busy": "2025-09-21T11:05:39.464203Z",
     "iopub.status.idle": "2025-09-21T11:05:39.554680Z",
     "shell.execute_reply": "2025-09-21T11:05:39.554015Z"
    },
    "papermill": {
     "duration": 0.108864,
     "end_time": "2025-09-21T11:05:39.556484",
     "exception": false,
     "start_time": "2025-09-21T11:05:39.447620",
     "status": "completed"
    },
    "tags": []
   },
   "outputs": [],
   "source": [
    "xgb = XGBClassifier(use_label_encoder=False, eval_metric='mlogloss', random_state=42)\n",
    "xgb.fit(X_train, y_train)\n",
    "y_pred_xgb = xgb.predict(X_test)"
   ]
  },
  {
   "cell_type": "code",
   "execution_count": 29,
   "id": "7e118835",
   "metadata": {
    "execution": {
     "iopub.execute_input": "2025-09-21T11:05:39.594130Z",
     "iopub.status.busy": "2025-09-21T11:05:39.593774Z",
     "iopub.status.idle": "2025-09-21T11:05:39.624190Z",
     "shell.execute_reply": "2025-09-21T11:05:39.623050Z"
    },
    "papermill": {
     "duration": 0.049958,
     "end_time": "2025-09-21T11:05:39.625799",
     "exception": false,
     "start_time": "2025-09-21T11:05:39.575841",
     "status": "completed"
    },
    "tags": []
   },
   "outputs": [
    {
     "name": "stdout",
     "output_type": "stream",
     "text": [
      "\n",
      " Logistic Regression Results\n",
      "Accuracy: 0.9950248756218906\n",
      "Classification Report:\n",
      "               precision    recall  f1-score   support\n",
      "\n",
      "           0       0.99      1.00      1.00       107\n",
      "           1       1.00      0.99      0.99        94\n",
      "\n",
      "    accuracy                           1.00       201\n",
      "   macro avg       1.00      0.99      1.00       201\n",
      "weighted avg       1.00      1.00      1.00       201\n",
      "\n",
      "\n",
      " Random Forest Results\n",
      "Accuracy: 0.9950248756218906\n",
      "Classification Report:\n",
      "               precision    recall  f1-score   support\n",
      "\n",
      "           0       1.00      0.99      1.00       107\n",
      "           1       0.99      1.00      0.99        94\n",
      "\n",
      "    accuracy                           1.00       201\n",
      "   macro avg       0.99      1.00      1.00       201\n",
      "weighted avg       1.00      1.00      1.00       201\n",
      "\n",
      "\n",
      " XGBoost Results\n",
      "Accuracy: 0.9950248756218906\n",
      "Classification Report:\n",
      "               precision    recall  f1-score   support\n",
      "\n",
      "           0       0.99      1.00      1.00       107\n",
      "           1       1.00      0.99      0.99        94\n",
      "\n",
      "    accuracy                           1.00       201\n",
      "   macro avg       1.00      0.99      1.00       201\n",
      "weighted avg       1.00      1.00      1.00       201\n",
      "\n"
     ]
    }
   ],
   "source": [
    "models = {\n",
    "    \"Logistic Regression\": (y_pred_log, log_reg),\n",
    "    \"Random Forest\": (y_pred_rf, rf),\n",
    "    \"XGBoost\": (y_pred_xgb, xgb)\n",
    "}\n",
    "\n",
    "for name, (y_pred, model) in models.items():\n",
    "    print(f\"\\n {name} Results\")\n",
    "    print(\"Accuracy:\", accuracy_score(y_test, y_pred))\n",
    "    print(\"Classification Report:\\n\", classification_report(y_test, y_pred))"
   ]
  },
  {
   "cell_type": "markdown",
   "id": "b6f4856e",
   "metadata": {
    "papermill": {
     "duration": 0.015762,
     "end_time": "2025-09-21T11:05:39.658529",
     "exception": false,
     "start_time": "2025-09-21T11:05:39.642767",
     "status": "completed"
    },
    "tags": []
   },
   "source": [
    "## confusion Matrix "
   ]
  },
  {
   "cell_type": "code",
   "execution_count": 30,
   "id": "25d092e5",
   "metadata": {
    "execution": {
     "iopub.execute_input": "2025-09-21T11:05:39.691730Z",
     "iopub.status.busy": "2025-09-21T11:05:39.691396Z",
     "iopub.status.idle": "2025-09-21T11:05:39.862848Z",
     "shell.execute_reply": "2025-09-21T11:05:39.861961Z"
    },
    "papermill": {
     "duration": 0.189877,
     "end_time": "2025-09-21T11:05:39.864616",
     "exception": false,
     "start_time": "2025-09-21T11:05:39.674739",
     "status": "completed"
    },
    "tags": []
   },
   "outputs": [
    {
     "data": {
      "image/png": "[encoded data removed]",
      "text/plain": [
       "<Figure size 500x400 with 2 Axes>"
      ]
     },
     "metadata": {},
     "output_type": "display_data"
    }
   ],
   "source": [
    "    cm = confusion_matrix(y_test, y_pred)\n",
    "    plt.figure(figsize=(5,4))\n",
    "    sns.heatmap(cm, annot=True, fmt=\"d\", cmap=\"Blues\", xticklabels=label_encoders['winner'].classes_, yticklabels=label_encoders['winner'].classes_)\n",
    "    plt.title(f\"{name} - Confusion Matrix\")\n",
    "    plt.xlabel(\"Predicted\")\n",
    "    plt.ylabel(\"Actual\")\n",
    "    plt.show()"
   ]
  },
  {
   "cell_type": "markdown",
   "id": "56c7e1ca",
   "metadata": {
    "papermill": {
     "duration": 0.015569,
     "end_time": "2025-09-21T11:05:39.896418",
     "exception": false,
     "start_time": "2025-09-21T11:05:39.880849",
     "status": "completed"
    },
    "tags": []
   },
   "source": [
    "### save the best model, then create a simple prediction function"
   ]
  },
  {
   "cell_type": "code",
   "execution_count": 31,
   "id": "ed75e76c",
   "metadata": {
    "execution": {
     "iopub.execute_input": "2025-09-21T11:05:39.930759Z",
     "iopub.status.busy": "2025-09-21T11:05:39.930415Z",
     "iopub.status.idle": "2025-09-21T11:05:39.934621Z",
     "shell.execute_reply": "2025-09-21T11:05:39.933876Z"
    },
    "papermill": {
     "duration": 0.023125,
     "end_time": "2025-09-21T11:05:39.935850",
     "exception": false,
     "start_time": "2025-09-21T11:05:39.912725",
     "status": "completed"
    },
    "tags": []
   },
   "outputs": [],
   "source": [
    "import joblib"
   ]
  },
  {
   "cell_type": "code",
   "execution_count": 32,
   "id": "5af83fe5",
   "metadata": {
    "execution": {
     "iopub.execute_input": "2025-09-21T11:05:39.969051Z",
     "iopub.status.busy": "2025-09-21T11:05:39.968727Z",
     "iopub.status.idle": "2025-09-21T11:05:39.977465Z",
     "shell.execute_reply": "2025-09-21T11:05:39.976842Z"
    },
    "papermill": {
     "duration": 0.027503,
     "end_time": "2025-09-21T11:05:39.979454",
     "exception": false,
     "start_time": "2025-09-21T11:05:39.951951",
     "status": "completed"
    },
    "tags": []
   },
   "outputs": [
    {
     "name": "stdout",
     "output_type": "stream",
     "text": [
      "✅ Model and encoders saved successfully!\n"
     ]
    }
   ],
   "source": [
    "best_model = xgb  \n",
    "joblib.dump(best_model, \"winner_prediction_model.pkl\")\n",
    "\n",
    "# Save label encoders\n",
    "joblib.dump(label_encoders, \"label_encoders.pkl\")\n",
    "\n",
    "print(\"✅ Model and encoders saved successfully!\")"
   ]
  },
  {
   "cell_type": "code",
   "execution_count": 33,
   "id": "67859b8c",
   "metadata": {
    "execution": {
     "iopub.execute_input": "2025-09-21T11:05:40.016512Z",
     "iopub.status.busy": "2025-09-21T11:05:40.016193Z",
     "iopub.status.idle": "2025-09-21T11:05:40.025588Z",
     "shell.execute_reply": "2025-09-21T11:05:40.024920Z"
    },
    "papermill": {
     "duration": 0.028771,
     "end_time": "2025-09-21T11:05:40.027382",
     "exception": false,
     "start_time": "2025-09-21T11:05:39.998611",
     "status": "completed"
    },
    "tags": []
   },
   "outputs": [],
   "source": [
    "# Load model & encoders when needed\n",
    "loaded_model = joblib.load(\"winner_prediction_model.pkl\")\n",
    "loaded_encoders = joblib.load(\"label_encoders.pkl\")\n"
   ]
  },
  {
   "cell_type": "markdown",
   "id": "530c1507",
   "metadata": {
    "papermill": {
     "duration": 0.016605,
     "end_time": "2025-09-21T11:05:40.063344",
     "exception": false,
     "start_time": "2025-09-21T11:05:40.046739",
     "status": "completed"
    },
    "tags": []
   },
   "source": [
    "## Prediction Function"
   ]
  },
  {
   "cell_type": "code",
   "execution_count": 34,
   "id": "c4034f90",
   "metadata": {
    "execution": {
     "iopub.execute_input": "2025-09-21T11:05:40.098511Z",
     "iopub.status.busy": "2025-09-21T11:05:40.097770Z",
     "iopub.status.idle": "2025-09-21T11:05:40.104344Z",
     "shell.execute_reply": "2025-09-21T11:05:40.103369Z"
    },
    "papermill": {
     "duration": 0.025466,
     "end_time": "2025-09-21T11:05:40.105880",
     "exception": false,
     "start_time": "2025-09-21T11:05:40.080414",
     "status": "completed"
    },
    "tags": []
   },
   "outputs": [],
   "source": [
    "def predict_winner(year, india_runs, pak_runs, india_wickets, pak_wickets, \n",
    "                   toss_winner, bat_first, venue, tournament, pitch_condition):\n",
    "    # Run difference\n",
    "    run_diff = india_runs - pak_runs\n",
    "    \n",
    "    # Encode categorical inputs\n",
    "    toss_enc = loaded_encoders['toss_winner'].transform([toss_winner])[0]\n",
    "    bat_first_enc = loaded_encoders['bat_first'].transform([bat_first])[0]\n",
    "    venue_enc = loaded_encoders['venue'].transform([venue])[0]\n",
    "    tournament_enc = loaded_encoders['tournament'].transform([tournament])[0]\n",
    "    pitch_enc = loaded_encoders['pitch_condition'].transform([pitch_condition])[0]\n",
    "    \n",
    "    # Create feature array\n",
    "    features = np.array([[year, india_runs, pak_runs, india_wickets, pak_wickets,\n",
    "                          run_diff, toss_enc, bat_first_enc, \n",
    "                          venue_enc, tournament_enc, pitch_enc]])\n",
    "    \n",
    "    # Predict\n",
    "    pred = loaded_model.predict(features)[0]\n",
    "    winner = loaded_encoders['winner'].inverse_transform([pred])[0]\n",
    "    \n",
    "    return winner\n"
   ]
  },
  {
   "cell_type": "code",
   "execution_count": 35,
   "id": "52a40369",
   "metadata": {
    "execution": {
     "iopub.execute_input": "2025-09-21T11:05:40.142777Z",
     "iopub.status.busy": "2025-09-21T11:05:40.142481Z",
     "iopub.status.idle": "2025-09-21T11:05:40.152066Z",
     "shell.execute_reply": "2025-09-21T11:05:40.150312Z"
    },
    "papermill": {
     "duration": 0.03105,
     "end_time": "2025-09-21T11:05:40.153809",
     "exception": false,
     "start_time": "2025-09-21T11:05:40.122759",
     "status": "completed"
    },
    "tags": []
   },
   "outputs": [
    {
     "name": "stdout",
     "output_type": "stream",
     "text": [
      "🏏 Predicted Winner: Pakistan\n"
     ]
    }
   ],
   "source": [
    "print(\"🏏 Predicted Winner:\", predict_winner(\n",
    "    year=2024,\n",
    "    india_runs=120,\n",
    "    pak_runs=160,\n",
    "    india_wickets=5,\n",
    "    pak_wickets=8,\n",
    "    toss_winner=\"India\",\n",
    "    bat_first=\"India\",\n",
    "    venue=\"New York\",\n",
    "    tournament=\"WorldCup\",\n",
    "    pitch_condition=\"Balanced\"\n",
    "))"
   ]
  },
  {
   "cell_type": "code",
   "execution_count": 36,
   "id": "deda1851",
   "metadata": {
    "execution": {
     "iopub.execute_input": "2025-09-21T11:05:40.193616Z",
     "iopub.status.busy": "2025-09-21T11:05:40.193289Z",
     "iopub.status.idle": "2025-09-21T11:05:46.866664Z",
     "shell.execute_reply": "2025-09-21T11:05:46.865721Z"
    },
    "papermill": {
     "duration": 6.694038,
     "end_time": "2025-09-21T11:05:46.868339",
     "exception": false,
     "start_time": "2025-09-21T11:05:40.174301",
     "status": "completed"
    },
    "tags": []
   },
   "outputs": [
    {
     "name": "stdout",
     "output_type": "stream",
     "text": [
      "Collecting streamlit\r\n",
      "  Downloading streamlit-1.49.1-py3-none-any.whl.metadata (9.5 kB)\r\n",
      "Requirement already satisfied: altair!=5.4.0,!=5.4.1,<6,>=4.0 in /usr/local/lib/python3.11/dist-packages (from streamlit) (5.5.0)\r\n",
      "Requirement already satisfied: blinker<2,>=1.5.0 in /usr/local/lib/python3.11/dist-packages (from streamlit) (1.9.0)\r\n",
      "Requirement already satisfied: cachetools<7,>=4.0 in /usr/local/lib/python3.11/dist-packages (from streamlit) (5.5.2)\r\n",
      "Requirement already satisfied: click<9,>=7.0 in /usr/local/lib/python3.11/dist-packages (from streamlit) (8.2.1)\r\n",
      "Requirement already satisfied: numpy<3,>=1.23 in /usr/local/lib/python3.11/dist-packages (from streamlit) (1.26.4)\r\n",
      "Requirement already satisfied: packaging<26,>=20 in /usr/local/lib/python3.11/dist-packages (from streamlit) (25.0)\r\n",
      "Requirement already satisfied: pandas<3,>=1.4.0 in /usr/local/lib/python3.11/dist-packages (from streamlit) (2.2.3)\r\n",
      "Requirement already satisfied: pillow<12,>=7.1.0 in /usr/local/lib/python3.11/dist-packages (from streamlit) (11.2.1)\r\n",
      "Requirement already satisfied: protobuf<7,>=3.20 in /usr/local/lib/python3.11/dist-packages (from streamlit) (3.20.3)\r\n",
      "Requirement already satisfied: pyarrow>=7.0 in /usr/local/lib/python3.11/dist-packages (from streamlit) (19.0.1)\r\n",
      "Requirement already satisfied: requests<3,>=2.27 in /usr/local/lib/python3.11/dist-packages (from streamlit) (2.32.4)\r\n",
      "Requirement already satisfied: tenacity<10,>=8.1.0 in /usr/local/lib/python3.11/dist-packages (from streamlit) (8.5.0)\r\n",
      "Requirement already satisfied: toml<2,>=0.10.1 in /usr/local/lib/python3.11/dist-packages (from streamlit) (0.10.2)\r\n",
      "Requirement already satisfied: typing-extensions<5,>=4.4.0 in /usr/local/lib/python3.11/dist-packages (from streamlit) (4.14.0)\r\n",
      "Requirement already satisfied: watchdog<7,>=2.1.5 in /usr/local/lib/python3.11/dist-packages (from streamlit) (6.0.0)\r\n",
      "Requirement already satisfied: gitpython!=3.1.19,<4,>=3.0.7 in /usr/local/lib/python3.11/dist-packages (from streamlit) (3.1.44)\r\n",
      "Collecting pydeck<1,>=0.8.0b4 (from streamlit)\r\n",
      "  Downloading pydeck-0.9.1-py2.py3-none-any.whl.metadata (4.1 kB)\r\n",
      "Requirement already satisfied: tornado!=6.5.0,<7,>=6.0.3 in /usr/local/lib/python3.11/dist-packages (from streamlit) (6.5.1)\r\n",
      "Requirement already satisfied: jinja2 in /usr/local/lib/python3.11/dist-packages (from altair!=5.4.0,!=5.4.1,<6,>=4.0->streamlit) (3.1.6)\r\n",
      "Requirement already satisfied: jsonschema>=3.0 in /usr/local/lib/python3.11/dist-packages (from altair!=5.4.0,!=5.4.1,<6,>=4.0->streamlit) (4.24.0)\r\n",
      "Requirement already satisfied: narwhals>=1.14.2 in /usr/local/lib/python3.11/dist-packages (from altair!=5.4.0,!=5.4.1,<6,>=4.0->streamlit) (1.44.0)\r\n",
      "Requirement already satisfied: gitdb<5,>=4.0.1 in /usr/local/lib/python3.11/dist-packages (from gitpython!=3.1.19,<4,>=3.0.7->streamlit) (4.0.12)\r\n",
      "Requirement already satisfied: mkl_fft in /usr/local/lib/python3.11/dist-packages (from numpy<3,>=1.23->streamlit) (1.3.8)\r\n",
      "Requirement already satisfied: mkl_random in /usr/local/lib/python3.11/dist-packages (from numpy<3,>=1.23->streamlit) (1.2.4)\r\n",
      "Requirement already satisfied: mkl_umath in /usr/local/lib/python3.11/dist-packages (from numpy<3,>=1.23->streamlit) (0.1.1)\r\n",
      "Requirement already satisfied: mkl in /usr/local/lib/python3.11/dist-packages (from numpy<3,>=1.23->streamlit) (2025.2.0)\r\n",
      "Requirement already satisfied: tbb4py in /usr/local/lib/python3.11/dist-packages (from numpy<3,>=1.23->streamlit) (2022.2.0)\r\n",
      "Requirement already satisfied: mkl-service in /usr/local/lib/python3.11/dist-packages (from numpy<3,>=1.23->streamlit) (2.4.1)\r\n",
      "Requirement already satisfied: python-dateutil>=2.8.2 in /usr/local/lib/python3.11/dist-packages (from pandas<3,>=1.4.0->streamlit) (2.9.0.post0)\r\n",
      "Requirement already satisfied: pytz>=2020.1 in /usr/local/lib/python3.11/dist-packages (from pandas<3,>=1.4.0->streamlit) (2025.2)\r\n",
      "Requirement already satisfied: tzdata>=2022.7 in /usr/local/lib/python3.11/dist-packages (from pandas<3,>=1.4.0->streamlit) (2025.2)\r\n",
      "Requirement already satisfied: charset_normalizer<4,>=2 in /usr/local/lib/python3.11/dist-packages (from requests<3,>=2.27->streamlit) (3.4.2)\r\n",
      "Requirement already satisfied: idna<4,>=2.5 in /usr/local/lib/python3.11/dist-packages (from requests<3,>=2.27->streamlit) (3.10)\r\n",
      "Requirement already satisfied: urllib3<3,>=1.21.1 in /usr/local/lib/python3.11/dist-packages (from requests<3,>=2.27->streamlit) (2.5.0)\r\n",
      "Requirement already satisfied: certifi>=2017.4.17 in /usr/local/lib/python3.11/dist-packages (from requests<3,>=2.27->streamlit) (2025.6.15)\r\n",
      "Requirement already satisfied: smmap<6,>=3.0.1 in /usr/local/lib/python3.11/dist-packages (from gitdb<5,>=4.0.1->gitpython!=3.1.19,<4,>=3.0.7->streamlit) (5.0.2)\r\n",
      "Requirement already satisfied: MarkupSafe>=2.0 in /usr/local/lib/python3.11/dist-packages (from jinja2->altair!=5.4.0,!=5.4.1,<6,>=4.0->streamlit) (3.0.2)\r\n",
      "Requirement already satisfied: attrs>=22.2.0 in /usr/local/lib/python3.11/dist-packages (from jsonschema>=3.0->altair!=5.4.0,!=5.4.1,<6,>=4.0->streamlit) (25.3.0)\r\n",
      "Requirement already satisfied: jsonschema-specifications>=2023.03.6 in /usr/local/lib/python3.11/dist-packages (from jsonschema>=3.0->altair!=5.4.0,!=5.4.1,<6,>=4.0->streamlit) (2025.4.1)\r\n",
      "Requirement already satisfied: referencing>=0.28.4 in /usr/local/lib/python3.11/dist-packages (from jsonschema>=3.0->altair!=5.4.0,!=5.4.1,<6,>=4.0->streamlit) (0.36.2)\r\n",
      "Requirement already satisfied: rpds-py>=0.7.1 in /usr/local/lib/python3.11/dist-packages (from jsonschema>=3.0->altair!=5.4.0,!=5.4.1,<6,>=4.0->streamlit) (0.25.1)\r\n",
      "Requirement already satisfied: six>=1.5 in /usr/local/lib/python3.11/dist-packages (from python-dateutil>=2.8.2->pandas<3,>=1.4.0->streamlit) (1.17.0)\r\n",
      "Requirement already satisfied: intel-openmp<2026,>=2024 in /usr/local/lib/python3.11/dist-packages (from mkl->numpy<3,>=1.23->streamlit) (2024.2.0)\r\n",
      "Requirement already satisfied: tbb==2022.* in /usr/local/lib/python3.11/dist-packages (from mkl->numpy<3,>=1.23->streamlit) (2022.2.0)\r\n",
      "Requirement already satisfied: tcmlib==1.* in /usr/local/lib/python3.11/dist-packages (from tbb==2022.*->mkl->numpy<3,>=1.23->streamlit) (1.4.0)\r\n",
      "Requirement already satisfied: intel-cmplr-lib-rt in /usr/local/lib/python3.11/dist-packages (from mkl_umath->numpy<3,>=1.23->streamlit) (2024.2.0)\r\n",
      "Requirement already satisfied: intel-cmplr-lib-ur==2024.2.0 in /usr/local/lib/python3.11/dist-packages (from intel-openmp<2026,>=2024->mkl->numpy<3,>=1.23->streamlit) (2024.2.0)\r\n",
      "Downloading streamlit-1.49.1-py3-none-any.whl (10.0 MB)\r\n",
      "\u001b[2K   \u001b[90m━━━━━━━━━━━━━━━━━━━━━━━━━━━━━━━━━━━━━━━━\u001b[0m \u001b[32m10.0/10.0 MB\u001b[0m \u001b[31m67.8 MB/s\u001b[0m eta \u001b[36m0:00:00\u001b[0m\r\n",
      "\u001b[?25hDownloading pydeck-0.9.1-py2.py3-none-any.whl (6.9 MB)\r\n",
      "\u001b[2K   \u001b[90m━━━━━━━━━━━━━━━━━━━━━━━━━━━━━━━━━━━━━━━━\u001b[0m \u001b[32m6.9/6.9 MB\u001b[0m \u001b[31m83.2 MB/s\u001b[0m eta \u001b[36m0:00:00\u001b[0m\r\n",
      "\u001b[?25hInstalling collected packages: pydeck, streamlit\r\n",
      "Successfully installed pydeck-0.9.1 streamlit-1.49.1\r\n"
     ]
    }
   ],
   "source": [
    "!pip install streamlit"
   ]
  },
  {
   "cell_type": "code",
   "execution_count": 37,
   "id": "2890d882",
   "metadata": {
    "execution": {
     "iopub.execute_input": "2025-09-21T11:05:46.903760Z",
     "iopub.status.busy": "2025-09-21T11:05:46.903414Z",
     "iopub.status.idle": "2025-09-21T11:05:50.953327Z",
     "shell.execute_reply": "2025-09-21T11:05:50.952352Z"
    },
    "papermill": {
     "duration": 4.069241,
     "end_time": "2025-09-21T11:05:50.954857",
     "exception": false,
     "start_time": "2025-09-21T11:05:46.885616",
     "status": "completed"
    },
    "tags": []
   },
   "outputs": [
    {
     "name": "stdout",
     "output_type": "stream",
     "text": [
      "Requirement already satisfied: gradio in /usr/local/lib/python3.11/dist-packages (5.31.0)\r\n",
      "Requirement already satisfied: aiofiles<25.0,>=22.0 in /usr/local/lib/python3.11/dist-packages (from gradio) (22.1.0)\r\n",
      "Requirement already satisfied: anyio<5.0,>=3.0 in /usr/local/lib/python3.11/dist-packages (from gradio) (4.9.0)\r\n",
      "Requirement already satisfied: fastapi<1.0,>=0.115.2 in /usr/local/lib/python3.11/dist-packages (from gradio) (0.115.13)\r\n",
      "Requirement already satisfied: ffmpy in /usr/local/lib/python3.11/dist-packages (from gradio) (0.6.0)\r\n",
      "Requirement already satisfied: gradio-client==1.10.1 in /usr/local/lib/python3.11/dist-packages (from gradio) (1.10.1)\r\n",
      "Requirement already satisfied: groovy~=0.1 in /usr/local/lib/python3.11/dist-packages (from gradio) (0.1.2)\r\n",
      "Requirement already satisfied: httpx>=0.24.1 in /usr/local/lib/python3.11/dist-packages (from gradio) (0.28.1)\r\n",
      "Requirement already satisfied: huggingface-hub>=0.28.1 in /usr/local/lib/python3.11/dist-packages (from gradio) (0.33.1)\r\n",
      "Requirement already satisfied: jinja2<4.0 in /usr/local/lib/python3.11/dist-packages (from gradio) (3.1.6)\r\n",
      "Requirement already satisfied: markupsafe<4.0,>=2.0 in /usr/local/lib/python3.11/dist-packages (from gradio) (3.0.2)\r\n",
      "Requirement already satisfied: numpy<3.0,>=1.0 in /usr/local/lib/python3.11/dist-packages (from gradio) (1.26.4)\r\n",
      "Requirement already satisfied: orjson~=3.0 in /usr/local/lib/python3.11/dist-packages (from gradio) (3.10.18)\r\n",
      "Requirement already satisfied: packaging in /usr/local/lib/python3.11/dist-packages (from gradio) (25.0)\r\n",
      "Requirement already satisfied: pandas<3.0,>=1.0 in /usr/local/lib/python3.11/dist-packages (from gradio) (2.2.3)\r\n",
      "Requirement already satisfied: pillow<12.0,>=8.0 in /usr/local/lib/python3.11/dist-packages (from gradio) (11.2.1)\r\n",
      "Requirement already satisfied: pydantic<2.12,>=2.0 in /usr/local/lib/python3.11/dist-packages (from gradio) (2.11.7)\r\n",
      "Requirement already satisfied: pydub in /usr/local/lib/python3.11/dist-packages (from gradio) (0.25.1)\r\n",
      "Requirement already satisfied: python-multipart>=0.0.18 in /usr/local/lib/python3.11/dist-packages (from gradio) (0.0.20)\r\n",
      "Requirement already satisfied: pyyaml<7.0,>=5.0 in /usr/local/lib/python3.11/dist-packages (from gradio) (6.0.2)\r\n",
      "Requirement already satisfied: ruff>=0.9.3 in /usr/local/lib/python3.11/dist-packages (from gradio) (0.12.0)\r\n",
      "Requirement already satisfied: safehttpx<0.2.0,>=0.1.6 in /usr/local/lib/python3.11/dist-packages (from gradio) (0.1.6)\r\n",
      "Requirement already satisfied: semantic-version~=2.0 in /usr/local/lib/python3.11/dist-packages (from gradio) (2.10.0)\r\n",
      "Requirement already satisfied: starlette<1.0,>=0.40.0 in /usr/local/lib/python3.11/dist-packages (from gradio) (0.46.2)\r\n",
      "Requirement already satisfied: tomlkit<0.14.0,>=0.12.0 in /usr/local/lib/python3.11/dist-packages (from gradio) (0.13.3)\r\n",
      "Requirement already satisfied: typer<1.0,>=0.12 in /usr/local/lib/python3.11/dist-packages (from gradio) (0.16.0)\r\n",
      "Requirement already satisfied: typing-extensions~=4.0 in /usr/local/lib/python3.11/dist-packages (from gradio) (4.14.0)\r\n",
      "Requirement already satisfied: uvicorn>=0.14.0 in /usr/local/lib/python3.11/dist-packages (from gradio) (0.34.3)\r\n",
      "Requirement already satisfied: fsspec in /usr/local/lib/python3.11/dist-packages (from gradio-client==1.10.1->gradio) (2025.5.1)\r\n",
      "Requirement already satisfied: websockets<16.0,>=10.0 in /usr/local/lib/python3.11/dist-packages (from gradio-client==1.10.1->gradio) (15.0.1)\r\n",
      "Requirement already satisfied: idna>=2.8 in /usr/local/lib/python3.11/dist-packages (from anyio<5.0,>=3.0->gradio) (3.10)\r\n",
      "Requirement already satisfied: sniffio>=1.1 in /usr/local/lib/python3.11/dist-packages (from anyio<5.0,>=3.0->gradio) (1.3.1)\r\n",
      "Requirement already satisfied: certifi in /usr/local/lib/python3.11/dist-packages (from httpx>=0.24.1->gradio) (2025.6.15)\r\n",
      "Requirement already satisfied: httpcore==1.* in /usr/local/lib/python3.11/dist-packages (from httpx>=0.24.1->gradio) (1.0.9)\r\n",
      "Requirement already satisfied: h11>=0.16 in /usr/local/lib/python3.11/dist-packages (from httpcore==1.*->httpx>=0.24.1->gradio) (0.16.0)\r\n",
      "Requirement already satisfied: filelock in /usr/local/lib/python3.11/dist-packages (from huggingface-hub>=0.28.1->gradio) (3.18.0)\r\n",
      "Requirement already satisfied: requests in /usr/local/lib/python3.11/dist-packages (from huggingface-hub>=0.28.1->gradio) (2.32.4)\r\n",
      "Requirement already satisfied: tqdm>=4.42.1 in /usr/local/lib/python3.11/dist-packages (from huggingface-hub>=0.28.1->gradio) (4.67.1)\r\n",
      "Requirement already satisfied: hf-xet<2.0.0,>=1.1.2 in /usr/local/lib/python3.11/dist-packages (from huggingface-hub>=0.28.1->gradio) (1.1.5)\r\n",
      "Requirement already satisfied: mkl_fft in /usr/local/lib/python3.11/dist-packages (from numpy<3.0,>=1.0->gradio) (1.3.8)\r\n",
      "Requirement already satisfied: mkl_random in /usr/local/lib/python3.11/dist-packages (from numpy<3.0,>=1.0->gradio) (1.2.4)\r\n",
      "Requirement already satisfied: mkl_umath in /usr/local/lib/python3.11/dist-packages (from numpy<3.0,>=1.0->gradio) (0.1.1)\r\n",
      "Requirement already satisfied: mkl in /usr/local/lib/python3.11/dist-packages (from numpy<3.0,>=1.0->gradio) (2025.2.0)\r\n",
      "Requirement already satisfied: tbb4py in /usr/local/lib/python3.11/dist-packages (from numpy<3.0,>=1.0->gradio) (2022.2.0)\r\n",
      "Requirement already satisfied: mkl-service in /usr/local/lib/python3.11/dist-packages (from numpy<3.0,>=1.0->gradio) (2.4.1)\r\n",
      "Requirement already satisfied: python-dateutil>=2.8.2 in /usr/local/lib/python3.11/dist-packages (from pandas<3.0,>=1.0->gradio) (2.9.0.post0)\r\n",
      "Requirement already satisfied: pytz>=2020.1 in /usr/local/lib/python3.11/dist-packages (from pandas<3.0,>=1.0->gradio) (2025.2)\r\n",
      "Requirement already satisfied: tzdata>=2022.7 in /usr/local/lib/python3.11/dist-packages (from pandas<3.0,>=1.0->gradio) (2025.2)\r\n",
      "Requirement already satisfied: annotated-types>=0.6.0 in /usr/local/lib/python3.11/dist-packages (from pydantic<2.12,>=2.0->gradio) (0.7.0)\r\n",
      "Requirement already satisfied: pydantic-core==2.33.2 in /usr/local/lib/python3.11/dist-packages (from pydantic<2.12,>=2.0->gradio) (2.33.2)\r\n",
      "Requirement already satisfied: typing-inspection>=0.4.0 in /usr/local/lib/python3.11/dist-packages (from pydantic<2.12,>=2.0->gradio) (0.4.1)\r\n",
      "Requirement already satisfied: click>=8.0.0 in /usr/local/lib/python3.11/dist-packages (from typer<1.0,>=0.12->gradio) (8.2.1)\r\n",
      "Requirement already satisfied: shellingham>=1.3.0 in /usr/local/lib/python3.11/dist-packages (from typer<1.0,>=0.12->gradio) (1.5.4)\r\n",
      "Requirement already satisfied: rich>=10.11.0 in /usr/local/lib/python3.11/dist-packages (from typer<1.0,>=0.12->gradio) (14.0.0)\r\n",
      "Requirement already satisfied: six>=1.5 in /usr/local/lib/python3.11/dist-packages (from python-dateutil>=2.8.2->pandas<3.0,>=1.0->gradio) (1.17.0)\r\n",
      "Requirement already satisfied: markdown-it-py>=2.2.0 in /usr/local/lib/python3.11/dist-packages (from rich>=10.11.0->typer<1.0,>=0.12->gradio) (3.0.0)\r\n",
      "Requirement already satisfied: pygments<3.0.0,>=2.13.0 in /usr/local/lib/python3.11/dist-packages (from rich>=10.11.0->typer<1.0,>=0.12->gradio) (2.19.2)\r\n",
      "Requirement already satisfied: intel-openmp<2026,>=2024 in /usr/local/lib/python3.11/dist-packages (from mkl->numpy<3.0,>=1.0->gradio) (2024.2.0)\r\n",
      "Requirement already satisfied: tbb==2022.* in /usr/local/lib/python3.11/dist-packages (from mkl->numpy<3.0,>=1.0->gradio) (2022.2.0)\r\n",
      "Requirement already satisfied: tcmlib==1.* in /usr/local/lib/python3.11/dist-packages (from tbb==2022.*->mkl->numpy<3.0,>=1.0->gradio) (1.4.0)\r\n",
      "Requirement already satisfied: intel-cmplr-lib-rt in /usr/local/lib/python3.11/dist-packages (from mkl_umath->numpy<3.0,>=1.0->gradio) (2024.2.0)\r\n",
      "Requirement already satisfied: charset_normalizer<4,>=2 in /usr/local/lib/python3.11/dist-packages (from requests->huggingface-hub>=0.28.1->gradio) (3.4.2)\r\n",
      "Requirement already satisfied: urllib3<3,>=1.21.1 in /usr/local/lib/python3.11/dist-packages (from requests->huggingface-hub>=0.28.1->gradio) (2.5.0)\r\n",
      "Requirement already satisfied: intel-cmplr-lib-ur==2024.2.0 in /usr/local/lib/python3.11/dist-packages (from intel-openmp<2026,>=2024->mkl->numpy<3.0,>=1.0->gradio) (2024.2.0)\r\n",
      "Requirement already satisfied: mdurl~=0.1 in /usr/local/lib/python3.11/dist-packages (from markdown-it-py>=2.2.0->rich>=10.11.0->typer<1.0,>=0.12->gradio) (0.1.2)\r\n"
     ]
    }
   ],
   "source": [
    "!pip install gradio"
   ]
  },
  {
   "cell_type": "code",
   "execution_count": 38,
   "id": "92792ee9",
   "metadata": {
    "execution": {
     "iopub.execute_input": "2025-09-21T11:05:50.991919Z",
     "iopub.status.busy": "2025-09-21T11:05:50.991578Z",
     "iopub.status.idle": "2025-09-21T11:05:52.035730Z",
     "shell.execute_reply": "2025-09-21T11:05:52.034791Z"
    },
    "papermill": {
     "duration": 1.064735,
     "end_time": "2025-09-21T11:05:52.037510",
     "exception": false,
     "start_time": "2025-09-21T11:05:50.972775",
     "status": "completed"
    },
    "tags": []
   },
   "outputs": [],
   "source": [
    "import streamlit as st"
   ]
  },
  {
   "cell_type": "code",
   "execution_count": 39,
   "id": "50d16ecd",
   "metadata": {
    "execution": {
     "iopub.execute_input": "2025-09-21T11:05:52.077066Z",
     "iopub.status.busy": "2025-09-21T11:05:52.076466Z",
     "iopub.status.idle": "2025-09-21T11:05:52.395746Z",
     "shell.execute_reply": "2025-09-21T11:05:52.394968Z"
    },
    "papermill": {
     "duration": 0.340967,
     "end_time": "2025-09-21T11:05:52.397046",
     "exception": false,
     "start_time": "2025-09-21T11:05:52.056079",
     "status": "completed"
    },
    "tags": []
   },
   "outputs": [
    {
     "name": "stderr",
     "output_type": "stream",
     "text": [
      "2025-09-21 11:05:52.080 WARNING streamlit.runtime.scriptrunner_utils.script_run_context: Thread 'MainThread': missing ScriptRunContext! This warning can be ignored when running in bare mode.\n",
      "2025-09-21 11:05:52.313 \n",
      "  \u001b[33m\u001b[1mWarning:\u001b[0m to view this Streamlit app on a browser, run it with the following\n",
      "  command:\n",
      "\n",
      "    streamlit run /usr/local/lib/python3.11/dist-packages/colab_kernel_launcher.py [ARGUMENTS]\n",
      "2025-09-21 11:05:52.314 Thread 'MainThread': missing ScriptRunContext! This warning can be ignored when running in bare mode.\n",
      "2025-09-21 11:05:52.315 Thread 'MainThread': missing ScriptRunContext! This warning can be ignored when running in bare mode.\n",
      "2025-09-21 11:05:52.316 Thread 'MainThread': missing ScriptRunContext! This warning can be ignored when running in bare mode.\n",
      "2025-09-21 11:05:52.317 Thread 'MainThread': missing ScriptRunContext! This warning can be ignored when running in bare mode.\n",
      "2025-09-21 11:05:52.318 Thread 'MainThread': missing ScriptRunContext! This warning can be ignored when running in bare mode.\n",
      "2025-09-21 11:05:52.319 Thread 'MainThread': missing ScriptRunContext! This warning can be ignored when running in bare mode.\n",
      "2025-09-21 11:05:52.319 Session state does not function when running a script without `streamlit run`\n",
      "2025-09-21 11:05:52.320 Thread 'MainThread': missing ScriptRunContext! This warning can be ignored when running in bare mode.\n",
      "2025-09-21 11:05:52.321 Thread 'MainThread': missing ScriptRunContext! This warning can be ignored when running in bare mode.\n",
      "2025-09-21 11:05:52.322 Thread 'MainThread': missing ScriptRunContext! This warning can be ignored when running in bare mode.\n",
      "2025-09-21 11:05:52.323 Thread 'MainThread': missing ScriptRunContext! This warning can be ignored when running in bare mode.\n",
      "2025-09-21 11:05:52.323 Thread 'MainThread': missing ScriptRunContext! This warning can be ignored when running in bare mode.\n",
      "2025-09-21 11:05:52.324 Thread 'MainThread': missing ScriptRunContext! This warning can be ignored when running in bare mode.\n",
      "2025-09-21 11:05:52.325 Thread 'MainThread': missing ScriptRunContext! This warning can be ignored when running in bare mode.\n",
      "2025-09-21 11:05:52.326 Thread 'MainThread': missing ScriptRunContext! This warning can be ignored when running in bare mode.\n",
      "2025-09-21 11:05:52.326 Thread 'MainThread': missing ScriptRunContext! This warning can be ignored when running in bare mode.\n",
      "2025-09-21 11:05:52.327 Thread 'MainThread': missing ScriptRunContext! This warning can be ignored when running in bare mode.\n",
      "2025-09-21 11:05:52.328 Thread 'MainThread': missing ScriptRunContext! This warning can be ignored when running in bare mode.\n",
      "2025-09-21 11:05:52.329 Thread 'MainThread': missing ScriptRunContext! This warning can be ignored when running in bare mode.\n",
      "2025-09-21 11:05:52.331 Thread 'MainThread': missing ScriptRunContext! This warning can be ignored when running in bare mode.\n",
      "2025-09-21 11:05:52.332 Thread 'MainThread': missing ScriptRunContext! This warning can be ignored when running in bare mode.\n",
      "2025-09-21 11:05:52.333 Thread 'MainThread': missing ScriptRunContext! This warning can be ignored when running in bare mode.\n",
      "2025-09-21 11:05:52.334 Thread 'MainThread': missing ScriptRunContext! This warning can be ignored when running in bare mode.\n",
      "2025-09-21 11:05:52.335 Thread 'MainThread': missing ScriptRunContext! This warning can be ignored when running in bare mode.\n",
      "2025-09-21 11:05:52.335 Thread 'MainThread': missing ScriptRunContext! This warning can be ignored when running in bare mode.\n",
      "2025-09-21 11:05:52.336 Thread 'MainThread': missing ScriptRunContext! This warning can be ignored when running in bare mode.\n",
      "2025-09-21 11:05:52.340 Thread 'MainThread': missing ScriptRunContext! This warning can be ignored when running in bare mode.\n",
      "2025-09-21 11:05:52.341 Thread 'MainThread': missing ScriptRunContext! This warning can be ignored when running in bare mode.\n",
      "2025-09-21 11:05:52.342 Thread 'MainThread': missing ScriptRunContext! This warning can be ignored when running in bare mode.\n",
      "2025-09-21 11:05:52.343 Thread 'MainThread': missing ScriptRunContext! This warning can be ignored when running in bare mode.\n",
      "2025-09-21 11:05:52.343 Thread 'MainThread': missing ScriptRunContext! This warning can be ignored when running in bare mode.\n",
      "2025-09-21 11:05:52.344 Thread 'MainThread': missing ScriptRunContext! This warning can be ignored when running in bare mode.\n",
      "2025-09-21 11:05:52.345 Thread 'MainThread': missing ScriptRunContext! This warning can be ignored when running in bare mode.\n",
      "2025-09-21 11:05:52.346 Thread 'MainThread': missing ScriptRunContext! This warning can be ignored when running in bare mode.\n",
      "2025-09-21 11:05:52.347 Thread 'MainThread': missing ScriptRunContext! This warning can be ignored when running in bare mode.\n",
      "2025-09-21 11:05:52.348 Thread 'MainThread': missing ScriptRunContext! This warning can be ignored when running in bare mode.\n",
      "2025-09-21 11:05:52.349 Thread 'MainThread': missing ScriptRunContext! This warning can be ignored when running in bare mode.\n",
      "2025-09-21 11:05:52.349 Thread 'MainThread': missing ScriptRunContext! This warning can be ignored when running in bare mode.\n",
      "2025-09-21 11:05:52.353 Thread 'MainThread': missing ScriptRunContext! This warning can be ignored when running in bare mode.\n",
      "2025-09-21 11:05:52.354 Thread 'MainThread': missing ScriptRunContext! This warning can be ignored when running in bare mode.\n",
      "2025-09-21 11:05:52.355 Thread 'MainThread': missing ScriptRunContext! This warning can be ignored when running in bare mode.\n",
      "2025-09-21 11:05:52.355 Thread 'MainThread': missing ScriptRunContext! This warning can be ignored when running in bare mode.\n",
      "2025-09-21 11:05:52.356 Thread 'MainThread': missing ScriptRunContext! This warning can be ignored when running in bare mode.\n",
      "2025-09-21 11:05:52.357 Thread 'MainThread': missing ScriptRunContext! This warning can be ignored when running in bare mode.\n",
      "2025-09-21 11:05:52.358 Thread 'MainThread': missing ScriptRunContext! This warning can be ignored when running in bare mode.\n",
      "2025-09-21 11:05:52.360 Thread 'MainThread': missing ScriptRunContext! This warning can be ignored when running in bare mode.\n",
      "2025-09-21 11:05:52.360 Thread 'MainThread': missing ScriptRunContext! This warning can be ignored when running in bare mode.\n",
      "2025-09-21 11:05:52.361 Thread 'MainThread': missing ScriptRunContext! This warning can be ignored when running in bare mode.\n",
      "2025-09-21 11:05:52.362 Thread 'MainThread': missing ScriptRunContext! This warning can be ignored when running in bare mode.\n",
      "2025-09-21 11:05:52.363 Thread 'MainThread': missing ScriptRunContext! This warning can be ignored when running in bare mode.\n",
      "2025-09-21 11:05:52.364 Thread 'MainThread': missing ScriptRunContext! This warning can be ignored when running in bare mode.\n",
      "2025-09-21 11:05:52.365 Thread 'MainThread': missing ScriptRunContext! This warning can be ignored when running in bare mode.\n",
      "2025-09-21 11:05:52.368 Thread 'MainThread': missing ScriptRunContext! This warning can be ignored when running in bare mode.\n",
      "2025-09-21 11:05:52.369 Thread 'MainThread': missing ScriptRunContext! This warning can be ignored when running in bare mode.\n",
      "2025-09-21 11:05:52.369 Thread 'MainThread': missing ScriptRunContext! This warning can be ignored when running in bare mode.\n",
      "2025-09-21 11:05:52.371 Thread 'MainThread': missing ScriptRunContext! This warning can be ignored when running in bare mode.\n",
      "2025-09-21 11:05:52.371 Thread 'MainThread': missing ScriptRunContext! This warning can be ignored when running in bare mode.\n",
      "2025-09-21 11:05:52.372 Thread 'MainThread': missing ScriptRunContext! This warning can be ignored when running in bare mode.\n",
      "2025-09-21 11:05:52.373 Thread 'MainThread': missing ScriptRunContext! This warning can be ignored when running in bare mode.\n",
      "2025-09-21 11:05:52.374 Thread 'MainThread': missing ScriptRunContext! This warning can be ignored when running in bare mode.\n",
      "2025-09-21 11:05:52.375 Thread 'MainThread': missing ScriptRunContext! This warning can be ignored when running in bare mode.\n",
      "2025-09-21 11:05:52.376 Thread 'MainThread': missing ScriptRunContext! This warning can be ignored when running in bare mode.\n",
      "2025-09-21 11:05:52.378 Thread 'MainThread': missing ScriptRunContext! This warning can be ignored when running in bare mode.\n",
      "2025-09-21 11:05:52.379 Thread 'MainThread': missing ScriptRunContext! This warning can be ignored when running in bare mode.\n",
      "2025-09-21 11:05:52.380 Thread 'MainThread': missing ScriptRunContext! This warning can be ignored when running in bare mode.\n",
      "2025-09-21 11:05:52.381 Thread 'MainThread': missing ScriptRunContext! This warning can be ignored when running in bare mode.\n",
      "2025-09-21 11:05:52.382 Thread 'MainThread': missing ScriptRunContext! This warning can be ignored when running in bare mode.\n",
      "2025-09-21 11:05:52.383 Thread 'MainThread': missing ScriptRunContext! This warning can be ignored when running in bare mode.\n",
      "2025-09-21 11:05:52.384 Thread 'MainThread': missing ScriptRunContext! This warning can be ignored when running in bare mode.\n",
      "2025-09-21 11:05:52.385 Thread 'MainThread': missing ScriptRunContext! This warning can be ignored when running in bare mode.\n",
      "2025-09-21 11:05:52.385 Thread 'MainThread': missing ScriptRunContext! This warning can be ignored when running in bare mode.\n",
      "2025-09-21 11:05:52.386 Thread 'MainThread': missing ScriptRunContext! This warning can be ignored when running in bare mode.\n",
      "2025-09-21 11:05:52.388 Thread 'MainThread': missing ScriptRunContext! This warning can be ignored when running in bare mode.\n",
      "2025-09-21 11:05:52.389 Thread 'MainThread': missing ScriptRunContext! This warning can be ignored when running in bare mode.\n",
      "2025-09-21 11:05:52.390 Thread 'MainThread': missing ScriptRunContext! This warning can be ignored when running in bare mode.\n",
      "2025-09-21 11:05:52.390 Thread 'MainThread': missing ScriptRunContext! This warning can be ignored when running in bare mode.\n",
      "2025-09-21 11:05:52.391 Thread 'MainThread': missing ScriptRunContext! This warning can be ignored when running in bare mode.\n"
     ]
    }
   ],
   "source": [
    "st.title(\"🏏 India vs Pakistan Match Winner Predictor\")\n",
    "\n",
    "# Inputs\n",
    "year = st.number_input(\"Year\", 2000, 2030, 2023)\n",
    "india_runs = st.number_input(\"India Runs\", 0, 300, 180)\n",
    "pak_runs = st.number_input(\"Pakistan Runs\", 0, 300, 160)\n",
    "india_wickets = st.slider(\"India Wickets\", 0, 10, 5)\n",
    "pak_wickets = st.slider(\"Pakistan Wickets\", 0, 10, 8)\n",
    "toss_winner = st.selectbox(\"Toss Winner\", loaded_encoders['toss_winner'].classes_)\n",
    "bat_first = st.selectbox(\"Bat First\", loaded_encoders['bat_first'].classes_)\n",
    "venue = st.selectbox(\"Venue\", loaded_encoders['venue'].classes_)\n",
    "tournament = st.selectbox(\"Tournament\", loaded_encoders['tournament'].classes_)\n",
    "pitch_condition = st.selectbox(\"Pitch Condition\", loaded_encoders['pitch_condition'].classes_)\n",
    "\n",
    "if st.button(\"Predict Winner\"):\n",
    "    winner = predict_winner(year, india_runs, pak_runs, india_wickets, pak_wickets, \n",
    "                            toss_winner, bat_first, venue, tournament, pitch_condition)\n",
    "    st.success(f\"🏆 Predicted Winner: {winner}\")"
   ]
  },
  {
   "cell_type": "code",
   "execution_count": 40,
   "id": "00fa9ac6",
   "metadata": {
    "execution": {
     "iopub.execute_input": "2025-09-21T11:05:52.441018Z",
     "iopub.status.busy": "2025-09-21T11:05:52.440668Z",
     "iopub.status.idle": "2025-09-21T11:05:57.538164Z",
     "shell.execute_reply": "2025-09-21T11:05:57.537219Z"
    },
    "papermill": {
     "duration": 5.121052,
     "end_time": "2025-09-21T11:05:57.539818",
     "exception": false,
     "start_time": "2025-09-21T11:05:52.418766",
     "status": "completed"
    },
    "tags": []
   },
   "outputs": [],
   "source": [
    "import gradio as gr"
   ]
  },
  {
   "cell_type": "code",
   "execution_count": 41,
   "id": "f991e048",
   "metadata": {
    "execution": {
     "iopub.execute_input": "2025-09-21T11:05:57.585818Z",
     "iopub.status.busy": "2025-09-21T11:05:57.584739Z",
     "iopub.status.idle": "2025-09-21T11:05:57.591184Z",
     "shell.execute_reply": "2025-09-21T11:05:57.590426Z"
    },
    "papermill": {
     "duration": 0.030463,
     "end_time": "2025-09-21T11:05:57.592521",
     "exception": false,
     "start_time": "2025-09-21T11:05:57.562058",
     "status": "completed"
    },
    "tags": []
   },
   "outputs": [],
   "source": [
    "\n",
    "def predict_match(model, input_data, encoder=None):\n",
    "    \"\"\"\n",
    "    model       = trained model (XGBoost/RandomForest etc.)\n",
    "    input_data  = dict with keys like {\"year\": 2023, \"venue\": \"Delhi\", \"pitch\": \"Dry\", ...}\n",
    "    encoder     = encoder used during training (if categorical)\n",
    "    \"\"\"\n",
    "    \n",
    "    # Convert categorical values using encoder (if available)\n",
    "    if encoder is not None:\n",
    "        input_data = encoder.transform([list(input_data.values())])[0]\n",
    "    else:\n",
    "        input_data = list(input_data.values())\n",
    "    \n",
    "    # Ensure numeric type and correct shape\n",
    "    features = np.array(input_data, dtype=np.float32).reshape(1, -1)\n",
    "    \n",
    "    # Predict\n",
    "    pred = model.predict(features)[0]\n",
    "    return \"India\" if pred == 1 else \"Pakistan\""
   ]
  },
  {
   "cell_type": "code",
   "execution_count": 42,
   "id": "d793be4b",
   "metadata": {
    "execution": {
     "iopub.execute_input": "2025-09-21T11:05:57.638334Z",
     "iopub.status.busy": "2025-09-21T11:05:57.638051Z",
     "iopub.status.idle": "2025-09-21T11:05:57.996499Z",
     "shell.execute_reply": "2025-09-21T11:05:57.995695Z"
    },
    "papermill": {
     "duration": 0.38426,
     "end_time": "2025-09-21T11:05:57.998287",
     "exception": false,
     "start_time": "2025-09-21T11:05:57.614027",
     "status": "completed"
    },
    "tags": []
   },
   "outputs": [],
   "source": [
    "import gradio as gr\n",
    "\n",
    "with gr.Blocks() as demo:\n",
    "    with gr.Row():\n",
    "        india_runs = gr.Number(label=\"India Runs\")\n",
    "        pak_runs = gr.Number(label=\"Pakistan Runs\")\n",
    "        india_wkts = gr.Number(label=\"India Wickets\")\n",
    "        pak_wkts = gr.Number(label=\"Pakistan Wickets\")\n",
    "\n",
    "    with gr.Row():\n",
    "        toss_winner = gr.Dropdown(\n",
    "            choices=list(loaded_encoders['toss_winner'].classes_.astype(str)),\n",
    "            label=\"Toss Winner\"\n",
    "        )\n",
    "        bat_first = gr.Dropdown(\n",
    "            choices=list(loaded_encoders['bat_first'].classes_.astype(str)),\n",
    "            label=\"Bat First\"\n",
    "        )\n",
    "        venue = gr.Dropdown(\n",
    "            choices=list(loaded_encoders['venue'].classes_.astype(str)),\n",
    "            label=\"Venue\"\n",
    "        )\n"
   ]
  },
  {
   "cell_type": "markdown",
   "id": "08ea2980",
   "metadata": {
    "papermill": {
     "duration": 0.021672,
     "end_time": "2025-09-21T11:05:58.041927",
     "exception": false,
     "start_time": "2025-09-21T11:05:58.020255",
     "status": "completed"
    },
    "tags": []
   },
   "source": [
    "# ====================================================================================================================================================\n",
    "# ===================================================================================================================================================="
   ]
  },
  {
   "cell_type": "code",
   "execution_count": 43,
   "id": "b1626e73",
   "metadata": {
    "execution": {
     "iopub.execute_input": "2025-09-21T11:05:58.086050Z",
     "iopub.status.busy": "2025-09-21T11:05:58.085704Z",
     "iopub.status.idle": "2025-09-21T11:05:58.090657Z",
     "shell.execute_reply": "2025-09-21T11:05:58.089765Z"
    },
    "papermill": {
     "duration": 0.028733,
     "end_time": "2025-09-21T11:05:58.092058",
     "exception": false,
     "start_time": "2025-09-21T11:05:58.063325",
     "status": "completed"
    },
    "tags": []
   },
   "outputs": [
    {
     "name": "stdout",
     "output_type": "stream",
     "text": [
      "['match_id', 'year', 'venue', 'tournament', 'india_runs', 'pak_runs', 'toss_winner', 'bat_first', 'india_wickets', 'pak_wickets', 'winner', 'pitch_condition', 'run_diff', 'run_difference', 'venue_enc', 'tournament_enc', 'toss_winner_enc', 'bat_first_enc', 'winner_enc', 'pitch_condition_enc']\n"
     ]
    }
   ],
   "source": [
    "print(df.columns.tolist())"
   ]
  },
  {
   "cell_type": "code",
   "execution_count": 44,
   "id": "27d05ff6",
   "metadata": {
    "execution": {
     "iopub.execute_input": "2025-09-21T11:05:58.136607Z",
     "iopub.status.busy": "2025-09-21T11:05:58.136316Z",
     "iopub.status.idle": "2025-09-21T11:05:58.143952Z",
     "shell.execute_reply": "2025-09-21T11:05:58.143011Z"
    },
    "papermill": {
     "duration": 0.031524,
     "end_time": "2025-09-21T11:05:58.145663",
     "exception": false,
     "start_time": "2025-09-21T11:05:58.114139",
     "status": "completed"
    },
    "tags": []
   },
   "outputs": [],
   "source": [
    "from sklearn.preprocessing import LabelEncoder\n",
    "\n",
    "cat_cols = ['winner', 'toss_winner', 'pitch_condition']\n",
    "le_dict = {}\n",
    "\n",
    "for col in cat_cols:\n",
    "    le = LabelEncoder()\n",
    "    df[col] = le.fit_transform(df[col])\n",
    "    le_dict[col] = le"
   ]
  },
  {
   "cell_type": "markdown",
   "id": "963b2f70",
   "metadata": {
    "papermill": {
     "duration": 0.022373,
     "end_time": "2025-09-21T11:05:58.189723",
     "exception": false,
     "start_time": "2025-09-21T11:05:58.167350",
     "status": "completed"
    },
    "tags": []
   },
   "source": [
    "## Updated Gradio Inputs"
   ]
  },
  {
   "cell_type": "code",
   "execution_count": 45,
   "id": "849fb2e3",
   "metadata": {
    "execution": {
     "iopub.execute_input": "2025-09-21T11:05:58.235466Z",
     "iopub.status.busy": "2025-09-21T11:05:58.235130Z",
     "iopub.status.idle": "2025-09-21T11:06:00.978812Z",
     "shell.execute_reply": "2025-09-21T11:06:00.977649Z"
    },
    "papermill": {
     "duration": 2.768652,
     "end_time": "2025-09-21T11:06:00.980390",
     "exception": false,
     "start_time": "2025-09-21T11:05:58.211738",
     "status": "completed"
    },
    "tags": []
   },
   "outputs": [
    {
     "name": "stdout",
     "output_type": "stream",
     "text": [
      "* Running on local URL:  http://127.0.0.1:7860\n",
      "* Running on public URL: https://905b40c83c2bac910c.gradio.live\n",
      "\n",
      "This share link expires in 1 week. For free permanent hosting and GPU upgrades, run `gradio deploy` from the terminal in the working directory to deploy to Hugging Face Spaces (https://huggingface.co/spaces)\n"
     ]
    },
    {
     "data": {
      "text/html": [
       "<div><iframe src=\"https://905b40c83c2bac910c.gradio.live\" width=\"100%\" height=\"500\" allow=\"autoplay; camera; microphone; clipboard-read; clipboard-write;\" frameborder=\"0\" allowfullscreen></iframe></div>"
      ],
      "text/plain": [
       "<IPython.core.display.HTML object>"
      ]
     },
     "metadata": {},
     "output_type": "display_data"
    },
    {
     "data": {
      "text/plain": []
     },
     "execution_count": 45,
     "metadata": {},
     "output_type": "execute_result"
    }
   ],
   "source": [
    "import gradio as gr\n",
    "import numpy as np\n",
    "\n",
    "# Single match prediction function\n",
    "def match_predict(india_runs, pak_runs, toss, pitch):\n",
    "    # Calculate run difference\n",
    "    run_diff = india_runs - pak_runs\n",
    "\n",
    "    # Encode categorical inputs\n",
    "    toss_enc = le_dict['toss_winner'].transform([toss])[0]\n",
    "    pitch_enc = le_dict['pitch_condition'].transform([pitch])[0]\n",
    "\n",
    "    # Prepare features and predict winner\n",
    "    features = np.array([[india_runs, pak_runs, run_diff, toss_enc, pitch_enc]], dtype=np.float32)\n",
    "    winner_enc = best_model.predict(features)[0]\n",
    "\n",
    "    # Decode winner to team name\n",
    "    winner = le_dict['winner'].inverse_transform([winner_enc])[0]\n",
    "\n",
    "    # Choose color for winner\n",
    "\n",
    "    if winner == 0: \n",
    "        winner=\"India\" \n",
    "    else: \n",
    "        winner=\"PAKISTAN \"\n",
    "    color = \"blue\" if winner == \"India\" else \"green\"\n",
    " \n",
    "\n",
    "    # Return HTML formatted string\n",
    "    return f\"\"\"\n",
    "    <div style='text-align:center; font-family:Arial;'>\n",
    "        <h2 style='color:{color};'>🏆 Predicted Winner: {winner}</h2>\n",
    "        <p style='font-size:18px; color:#FF5733;'>⚡ Run Difference: {run_diff}</p>\n",
    "    </div>\n",
    "    \"\"\"\n",
    "\n",
    "# Gradio interface\n",
    "iface = gr.Interface(\n",
    "    fn=match_predict,\n",
    "    inputs=[\n",
    "        gr.Number(label=\"India Runs\", value=0),\n",
    "        gr.Number(label=\"Pakistan Runs\", value=0),\n",
    "        gr.Dropdown(choices=list(le_dict['toss_winner'].classes_), label=\"Toss Winner\"),\n",
    "        gr.Dropdown(choices=list(le_dict['pitch_condition'].classes_), label=\"Pitch Condition\")\n",
    "    ],\n",
    "    outputs=gr.HTML(label=\"Prediction\"),  # Use HTML to show colored output\n",
    "    title=\"🏏 India vs Pakistan T20 Winner Predictor\",\n",
    "    description=\"Enter runs, toss winner, and pitch condition to predict the winner.  (0=India,1=Pakistan) in toss \"\n",
    ")\n",
    "\n",
    "# Launch dashboard (shareable link + inline for Kaggle)\n",
    "iface.launch(share=True, inline=True)\n"
   ]
  }
 ],
 "metadata": {
  "kaggle": {
   "accelerator": "none",
   "dataSources": [
    {
     "datasetId": 8311836,
     "sourceId": 13121079,
     "sourceType": "datasetVersion"
    }
   ],
   "dockerImageVersionId": 31089,
   "isGpuEnabled": false,
   "isInternetEnabled": true,
   "language": "python",
   "sourceType": "notebook"
  },
  "kernelspec": {
   "display_name": "Python 3",
   "language": "python",
   "name": "python3"
  },
  "language_info": {
   "codemirror_mode": {
    "name": "ipython",
    "version": 3
   },
   "file_extension": ".py",
   "mimetype": "text/x-python",
   "name": "python",
   "nbconvert_exporter": "python",
   "pygments_lexer": "ipython3",
   "version": "3.11.13"
  },
  "papermill": {
   "default_parameters": {},
   "duration": 39.533783,
   "end_time": "2025-09-21T11:06:03.621817",
   "environment_variables": {},
   "exception": null,
   "input_path": "__notebook__.ipynb",
   "output_path": "__notebook__.ipynb",
   "parameters": {},
   "start_time": "2025-09-21T11:05:24.088034",
   "version": "2.6.0"
  }
 },
 "nbformat": 4,
 "nbformat_minor": 5
}
